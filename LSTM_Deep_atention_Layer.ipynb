{
  "cells": [
    {
      "cell_type": "code",
      "execution_count": null,
      "metadata": {
        "colab": {
          "base_uri": "https://localhost:8080/"
        },
        "id": "hYrqXfwMssuc",
        "outputId": "a0162581-a402-4204-9d0d-ecb7c82351e5"
      },
      "outputs": [
        {
          "output_type": "stream",
          "name": "stdout",
          "text": [
            "Mounted at /content/drive\n",
            "Collecting keras_tuner\n",
            "  Downloading keras_tuner-1.1.0-py3-none-any.whl (98 kB)\n",
            "\u001b[K     |████████████████████████████████| 98 kB 5.8 MB/s \n",
            "\u001b[?25hCollecting kt-legacy\n",
            "  Downloading kt_legacy-1.0.4-py3-none-any.whl (9.6 kB)\n",
            "Requirement already satisfied: ipython in /usr/local/lib/python3.7/dist-packages (from keras_tuner) (5.5.0)\n",
            "Requirement already satisfied: packaging in /usr/local/lib/python3.7/dist-packages (from keras_tuner) (21.3)\n",
            "Requirement already satisfied: requests in /usr/local/lib/python3.7/dist-packages (from keras_tuner) (2.23.0)\n",
            "Requirement already satisfied: numpy in /usr/local/lib/python3.7/dist-packages (from keras_tuner) (1.21.5)\n",
            "Requirement already satisfied: scipy in /usr/local/lib/python3.7/dist-packages (from keras_tuner) (1.4.1)\n",
            "Requirement already satisfied: tensorboard in /usr/local/lib/python3.7/dist-packages (from keras_tuner) (2.8.0)\n",
            "Requirement already satisfied: pexpect in /usr/local/lib/python3.7/dist-packages (from ipython->keras_tuner) (4.8.0)\n",
            "Requirement already satisfied: traitlets>=4.2 in /usr/local/lib/python3.7/dist-packages (from ipython->keras_tuner) (5.1.1)\n",
            "Requirement already satisfied: pickleshare in /usr/local/lib/python3.7/dist-packages (from ipython->keras_tuner) (0.7.5)\n",
            "Requirement already satisfied: prompt-toolkit<2.0.0,>=1.0.4 in /usr/local/lib/python3.7/dist-packages (from ipython->keras_tuner) (1.0.18)\n",
            "Requirement already satisfied: simplegeneric>0.8 in /usr/local/lib/python3.7/dist-packages (from ipython->keras_tuner) (0.8.1)\n",
            "Requirement already satisfied: setuptools>=18.5 in /usr/local/lib/python3.7/dist-packages (from ipython->keras_tuner) (57.4.0)\n",
            "Requirement already satisfied: pygments in /usr/local/lib/python3.7/dist-packages (from ipython->keras_tuner) (2.6.1)\n",
            "Requirement already satisfied: decorator in /usr/local/lib/python3.7/dist-packages (from ipython->keras_tuner) (4.4.2)\n",
            "Requirement already satisfied: wcwidth in /usr/local/lib/python3.7/dist-packages (from prompt-toolkit<2.0.0,>=1.0.4->ipython->keras_tuner) (0.2.5)\n",
            "Requirement already satisfied: six>=1.9.0 in /usr/local/lib/python3.7/dist-packages (from prompt-toolkit<2.0.0,>=1.0.4->ipython->keras_tuner) (1.15.0)\n",
            "Requirement already satisfied: pyparsing!=3.0.5,>=2.0.2 in /usr/local/lib/python3.7/dist-packages (from packaging->keras_tuner) (3.0.7)\n",
            "Requirement already satisfied: ptyprocess>=0.5 in /usr/local/lib/python3.7/dist-packages (from pexpect->ipython->keras_tuner) (0.7.0)\n",
            "Requirement already satisfied: chardet<4,>=3.0.2 in /usr/local/lib/python3.7/dist-packages (from requests->keras_tuner) (3.0.4)\n",
            "Requirement already satisfied: idna<3,>=2.5 in /usr/local/lib/python3.7/dist-packages (from requests->keras_tuner) (2.10)\n",
            "Requirement already satisfied: urllib3!=1.25.0,!=1.25.1,<1.26,>=1.21.1 in /usr/local/lib/python3.7/dist-packages (from requests->keras_tuner) (1.24.3)\n",
            "Requirement already satisfied: certifi>=2017.4.17 in /usr/local/lib/python3.7/dist-packages (from requests->keras_tuner) (2021.10.8)\n",
            "Requirement already satisfied: protobuf>=3.6.0 in /usr/local/lib/python3.7/dist-packages (from tensorboard->keras_tuner) (3.17.3)\n",
            "Requirement already satisfied: tensorboard-plugin-wit>=1.6.0 in /usr/local/lib/python3.7/dist-packages (from tensorboard->keras_tuner) (1.8.1)\n",
            "Requirement already satisfied: google-auth-oauthlib<0.5,>=0.4.1 in /usr/local/lib/python3.7/dist-packages (from tensorboard->keras_tuner) (0.4.6)\n",
            "Requirement already satisfied: markdown>=2.6.8 in /usr/local/lib/python3.7/dist-packages (from tensorboard->keras_tuner) (3.3.6)\n",
            "Requirement already satisfied: google-auth<3,>=1.6.3 in /usr/local/lib/python3.7/dist-packages (from tensorboard->keras_tuner) (1.35.0)\n",
            "Requirement already satisfied: werkzeug>=0.11.15 in /usr/local/lib/python3.7/dist-packages (from tensorboard->keras_tuner) (1.0.1)\n",
            "Requirement already satisfied: absl-py>=0.4 in /usr/local/lib/python3.7/dist-packages (from tensorboard->keras_tuner) (1.0.0)\n",
            "Requirement already satisfied: tensorboard-data-server<0.7.0,>=0.6.0 in /usr/local/lib/python3.7/dist-packages (from tensorboard->keras_tuner) (0.6.1)\n",
            "Requirement already satisfied: grpcio>=1.24.3 in /usr/local/lib/python3.7/dist-packages (from tensorboard->keras_tuner) (1.44.0)\n",
            "Requirement already satisfied: wheel>=0.26 in /usr/local/lib/python3.7/dist-packages (from tensorboard->keras_tuner) (0.37.1)\n",
            "Requirement already satisfied: rsa<5,>=3.1.4 in /usr/local/lib/python3.7/dist-packages (from google-auth<3,>=1.6.3->tensorboard->keras_tuner) (4.8)\n",
            "Requirement already satisfied: cachetools<5.0,>=2.0.0 in /usr/local/lib/python3.7/dist-packages (from google-auth<3,>=1.6.3->tensorboard->keras_tuner) (4.2.4)\n",
            "Requirement already satisfied: pyasn1-modules>=0.2.1 in /usr/local/lib/python3.7/dist-packages (from google-auth<3,>=1.6.3->tensorboard->keras_tuner) (0.2.8)\n",
            "Requirement already satisfied: requests-oauthlib>=0.7.0 in /usr/local/lib/python3.7/dist-packages (from google-auth-oauthlib<0.5,>=0.4.1->tensorboard->keras_tuner) (1.3.1)\n",
            "Requirement already satisfied: importlib-metadata>=4.4 in /usr/local/lib/python3.7/dist-packages (from markdown>=2.6.8->tensorboard->keras_tuner) (4.11.2)\n",
            "Requirement already satisfied: zipp>=0.5 in /usr/local/lib/python3.7/dist-packages (from importlib-metadata>=4.4->markdown>=2.6.8->tensorboard->keras_tuner) (3.7.0)\n",
            "Requirement already satisfied: typing-extensions>=3.6.4 in /usr/local/lib/python3.7/dist-packages (from importlib-metadata>=4.4->markdown>=2.6.8->tensorboard->keras_tuner) (3.10.0.2)\n",
            "Requirement already satisfied: pyasn1<0.5.0,>=0.4.6 in /usr/local/lib/python3.7/dist-packages (from pyasn1-modules>=0.2.1->google-auth<3,>=1.6.3->tensorboard->keras_tuner) (0.4.8)\n",
            "Requirement already satisfied: oauthlib>=3.0.0 in /usr/local/lib/python3.7/dist-packages (from requests-oauthlib>=0.7.0->google-auth-oauthlib<0.5,>=0.4.1->tensorboard->keras_tuner) (3.2.0)\n",
            "Installing collected packages: kt-legacy, keras-tuner\n",
            "Successfully installed keras-tuner-1.1.0 kt-legacy-1.0.4\n"
          ]
        }
      ],
      "source": [
        "from google.colab import drive\n",
        "drive.mount('/content/drive')\n",
        "import numpy as np\n",
        "import pandas as pd\n",
        "import matplotlib.pyplot as plt\n",
        "from mpl_toolkits.mplot3d import Axes3D\n",
        "import regex as re\n",
        "from nltk.corpus import stopwords\n",
        "from collections import Counter\n",
        "from sklearn.model_selection import train_test_split\n",
        "import tensorflow as tf\n",
        "from keras.preprocessing.text import Tokenizer\n",
        "from keras.preprocessing.sequence import pad_sequences\n",
        "from keras import Sequential\n",
        "from keras.layers import Dense, Embedding, Dropout, Flatten,  Layer, Input, Bidirectional, LSTM, LayerNormalization, Attention, TimeDistributed, concatenate\n",
        "from keras.callbacks import EarlyStopping\n",
        "from sklearn.feature_extraction.text import TfidfVectorizer\n",
        "from sklearn.decomposition import TruncatedSVD\n",
        "from keras import activations\n",
        "from sklearn.feature_selection import SelectKBest, chi2\n",
        "import keras.backend as K\n",
        "from tensorflow.keras import initializers, regularizers, constraints\n",
        "from tensorflow.keras.optimizers import Adam\n",
        "from keras.models import Model\n",
        "import nltk\n",
        "from gensim.models import KeyedVectors\n",
        "import string\n",
        "!pip install keras_tuner\n",
        "import keras_tuner as kt\n",
        "from sklearn.linear_model import LogisticRegression\n",
        "from sklearn.pipeline import Pipeline\n",
        "from sklearn.metrics import classification_report, accuracy_score, recall_score, precision_score, f1_score, average_precision_score\n",
        "import scipy"
      ]
    },
    {
      "cell_type": "code",
      "execution_count": null,
      "metadata": {
        "colab": {
          "base_uri": "https://localhost:8080/"
        },
        "id": "_b8S-VtMmSYn",
        "outputId": "525a1a37-dfd9-4f37-edc5-d72aeff50415"
      },
      "outputs": [
        {
          "output_type": "stream",
          "name": "stdout",
          "text": [
            "[nltk_data] Downloading package stopwords to /root/nltk_data...\n",
            "[nltk_data]   Unzipping corpora/stopwords.zip.\n"
          ]
        },
        {
          "output_type": "execute_result",
          "data": {
            "text/plain": [
              "True"
            ]
          },
          "metadata": {},
          "execution_count": 2
        }
      ],
      "source": [
        "nltk.download('stopwords')"
      ]
    },
    {
      "cell_type": "code",
      "execution_count": null,
      "metadata": {
        "colab": {
          "base_uri": "https://localhost:8080/"
        },
        "id": "QnuOh-P1tGNP",
        "outputId": "1676aabc-0280-4ded-e792-c436611c0494"
      },
      "outputs": [
        {
          "output_type": "stream",
          "name": "stdout",
          "text": [
            "--2022-03-19 16:18:46--  https://dl.fbaipublicfiles.com/fasttext/vectors-crawl/cc.en.300.vec.gz\n",
            "Resolving dl.fbaipublicfiles.com (dl.fbaipublicfiles.com)... 104.22.75.142, 104.22.74.142, 172.67.9.4, ...\n",
            "Connecting to dl.fbaipublicfiles.com (dl.fbaipublicfiles.com)|104.22.75.142|:443... connected.\n",
            "HTTP request sent, awaiting response... 200 OK\n",
            "Length: 1325960915 (1.2G) [binary/octet-stream]\n",
            "Saving to: ‘cc.en.300.vec.gz’\n",
            "\n",
            "cc.en.300.vec.gz    100%[===================>]   1.23G  47.5MB/s    in 27s     \n",
            "\n",
            "2022-03-19 16:19:13 (46.6 MB/s) - ‘cc.en.300.vec.gz’ saved [1325960915/1325960915]\n",
            "\n"
          ]
        }
      ],
      "source": [
        "!wget https://dl.fbaipublicfiles.com/fasttext/vectors-crawl/cc.en.300.vec.gz\n",
        "!gzip -d cc.en.300.vec.gz"
      ]
    },
    {
      "cell_type": "code",
      "execution_count": null,
      "metadata": {
        "colab": {
          "base_uri": "https://localhost:8080/",
          "height": 206
        },
        "id": "ra6J5-4otZG6",
        "outputId": "c4f310c7-3ce1-45a6-8f8d-e118bb312344"
      },
      "outputs": [
        {
          "output_type": "execute_result",
          "data": {
            "text/plain": [
              "                                                  review sentiment\n",
              "33553  I really liked this Summerslam due to the look...  positive\n",
              "9427   Not many television shows appeal to quite as m...  positive\n",
              "199    The film quickly gets to a major chase scene w...  negative\n",
              "12447  Jane Austen would definitely approve of this o...  positive\n",
              "39489  Expectations were somewhat high for me when I ...  negative"
            ],
            "text/html": [
              "\n",
              "  <div id=\"df-b6680b92-334e-4325-9c38-bbd15cc12b07\">\n",
              "    <div class=\"colab-df-container\">\n",
              "      <div>\n",
              "<style scoped>\n",
              "    .dataframe tbody tr th:only-of-type {\n",
              "        vertical-align: middle;\n",
              "    }\n",
              "\n",
              "    .dataframe tbody tr th {\n",
              "        vertical-align: top;\n",
              "    }\n",
              "\n",
              "    .dataframe thead th {\n",
              "        text-align: right;\n",
              "    }\n",
              "</style>\n",
              "<table border=\"1\" class=\"dataframe\">\n",
              "  <thead>\n",
              "    <tr style=\"text-align: right;\">\n",
              "      <th></th>\n",
              "      <th>review</th>\n",
              "      <th>sentiment</th>\n",
              "    </tr>\n",
              "  </thead>\n",
              "  <tbody>\n",
              "    <tr>\n",
              "      <th>33553</th>\n",
              "      <td>I really liked this Summerslam due to the look...</td>\n",
              "      <td>positive</td>\n",
              "    </tr>\n",
              "    <tr>\n",
              "      <th>9427</th>\n",
              "      <td>Not many television shows appeal to quite as m...</td>\n",
              "      <td>positive</td>\n",
              "    </tr>\n",
              "    <tr>\n",
              "      <th>199</th>\n",
              "      <td>The film quickly gets to a major chase scene w...</td>\n",
              "      <td>negative</td>\n",
              "    </tr>\n",
              "    <tr>\n",
              "      <th>12447</th>\n",
              "      <td>Jane Austen would definitely approve of this o...</td>\n",
              "      <td>positive</td>\n",
              "    </tr>\n",
              "    <tr>\n",
              "      <th>39489</th>\n",
              "      <td>Expectations were somewhat high for me when I ...</td>\n",
              "      <td>negative</td>\n",
              "    </tr>\n",
              "  </tbody>\n",
              "</table>\n",
              "</div>\n",
              "      <button class=\"colab-df-convert\" onclick=\"convertToInteractive('df-b6680b92-334e-4325-9c38-bbd15cc12b07')\"\n",
              "              title=\"Convert this dataframe to an interactive table.\"\n",
              "              style=\"display:none;\">\n",
              "        \n",
              "  <svg xmlns=\"http://www.w3.org/2000/svg\" height=\"24px\"viewBox=\"0 0 24 24\"\n",
              "       width=\"24px\">\n",
              "    <path d=\"M0 0h24v24H0V0z\" fill=\"none\"/>\n",
              "    <path d=\"M18.56 5.44l.94 2.06.94-2.06 2.06-.94-2.06-.94-.94-2.06-.94 2.06-2.06.94zm-11 1L8.5 8.5l.94-2.06 2.06-.94-2.06-.94L8.5 2.5l-.94 2.06-2.06.94zm10 10l.94 2.06.94-2.06 2.06-.94-2.06-.94-.94-2.06-.94 2.06-2.06.94z\"/><path d=\"M17.41 7.96l-1.37-1.37c-.4-.4-.92-.59-1.43-.59-.52 0-1.04.2-1.43.59L10.3 9.45l-7.72 7.72c-.78.78-.78 2.05 0 2.83L4 21.41c.39.39.9.59 1.41.59.51 0 1.02-.2 1.41-.59l7.78-7.78 2.81-2.81c.8-.78.8-2.07 0-2.86zM5.41 20L4 18.59l7.72-7.72 1.47 1.35L5.41 20z\"/>\n",
              "  </svg>\n",
              "      </button>\n",
              "      \n",
              "  <style>\n",
              "    .colab-df-container {\n",
              "      display:flex;\n",
              "      flex-wrap:wrap;\n",
              "      gap: 12px;\n",
              "    }\n",
              "\n",
              "    .colab-df-convert {\n",
              "      background-color: #E8F0FE;\n",
              "      border: none;\n",
              "      border-radius: 50%;\n",
              "      cursor: pointer;\n",
              "      display: none;\n",
              "      fill: #1967D2;\n",
              "      height: 32px;\n",
              "      padding: 0 0 0 0;\n",
              "      width: 32px;\n",
              "    }\n",
              "\n",
              "    .colab-df-convert:hover {\n",
              "      background-color: #E2EBFA;\n",
              "      box-shadow: 0px 1px 2px rgba(60, 64, 67, 0.3), 0px 1px 3px 1px rgba(60, 64, 67, 0.15);\n",
              "      fill: #174EA6;\n",
              "    }\n",
              "\n",
              "    [theme=dark] .colab-df-convert {\n",
              "      background-color: #3B4455;\n",
              "      fill: #D2E3FC;\n",
              "    }\n",
              "\n",
              "    [theme=dark] .colab-df-convert:hover {\n",
              "      background-color: #434B5C;\n",
              "      box-shadow: 0px 1px 3px 1px rgba(0, 0, 0, 0.15);\n",
              "      filter: drop-shadow(0px 1px 2px rgba(0, 0, 0, 0.3));\n",
              "      fill: #FFFFFF;\n",
              "    }\n",
              "  </style>\n",
              "\n",
              "      <script>\n",
              "        const buttonEl =\n",
              "          document.querySelector('#df-b6680b92-334e-4325-9c38-bbd15cc12b07 button.colab-df-convert');\n",
              "        buttonEl.style.display =\n",
              "          google.colab.kernel.accessAllowed ? 'block' : 'none';\n",
              "\n",
              "        async function convertToInteractive(key) {\n",
              "          const element = document.querySelector('#df-b6680b92-334e-4325-9c38-bbd15cc12b07');\n",
              "          const dataTable =\n",
              "            await google.colab.kernel.invokeFunction('convertToInteractive',\n",
              "                                                     [key], {});\n",
              "          if (!dataTable) return;\n",
              "\n",
              "          const docLinkHtml = 'Like what you see? Visit the ' +\n",
              "            '<a target=\"_blank\" href=https://colab.research.google.com/notebooks/data_table.ipynb>data table notebook</a>'\n",
              "            + ' to learn more about interactive tables.';\n",
              "          element.innerHTML = '';\n",
              "          dataTable['output_type'] = 'display_data';\n",
              "          await google.colab.output.renderOutput(dataTable, element);\n",
              "          const docLink = document.createElement('div');\n",
              "          docLink.innerHTML = docLinkHtml;\n",
              "          element.appendChild(docLink);\n",
              "        }\n",
              "      </script>\n",
              "    </div>\n",
              "  </div>\n",
              "  "
            ]
          },
          "metadata": {},
          "execution_count": 11
        }
      ],
      "source": [
        "df = pd.read_csv(\"drive/MyDrive/IMDB Dataset.csv\")\n",
        "df = df.sample(10000, random_state=42)\n",
        "df.head()"
      ]
    },
    {
      "cell_type": "code",
      "execution_count": null,
      "metadata": {
        "colab": {
          "base_uri": "https://localhost:8080/",
          "height": 50
        },
        "id": "fJlly9JXuPVr",
        "outputId": "dead0a4b-fdf0-418d-db00-4c47cd105dec"
      },
      "outputs": [
        {
          "output_type": "execute_result",
          "data": {
            "text/plain": [
              "Empty DataFrame\n",
              "Columns: [review, sentiment]\n",
              "Index: []"
            ],
            "text/html": [
              "\n",
              "  <div id=\"df-dd5a9d53-54c7-4c92-b762-168b166700a3\">\n",
              "    <div class=\"colab-df-container\">\n",
              "      <div>\n",
              "<style scoped>\n",
              "    .dataframe tbody tr th:only-of-type {\n",
              "        vertical-align: middle;\n",
              "    }\n",
              "\n",
              "    .dataframe tbody tr th {\n",
              "        vertical-align: top;\n",
              "    }\n",
              "\n",
              "    .dataframe thead th {\n",
              "        text-align: right;\n",
              "    }\n",
              "</style>\n",
              "<table border=\"1\" class=\"dataframe\">\n",
              "  <thead>\n",
              "    <tr style=\"text-align: right;\">\n",
              "      <th></th>\n",
              "      <th>review</th>\n",
              "      <th>sentiment</th>\n",
              "    </tr>\n",
              "  </thead>\n",
              "  <tbody>\n",
              "  </tbody>\n",
              "</table>\n",
              "</div>\n",
              "      <button class=\"colab-df-convert\" onclick=\"convertToInteractive('df-dd5a9d53-54c7-4c92-b762-168b166700a3')\"\n",
              "              title=\"Convert this dataframe to an interactive table.\"\n",
              "              style=\"display:none;\">\n",
              "        \n",
              "  <svg xmlns=\"http://www.w3.org/2000/svg\" height=\"24px\"viewBox=\"0 0 24 24\"\n",
              "       width=\"24px\">\n",
              "    <path d=\"M0 0h24v24H0V0z\" fill=\"none\"/>\n",
              "    <path d=\"M18.56 5.44l.94 2.06.94-2.06 2.06-.94-2.06-.94-.94-2.06-.94 2.06-2.06.94zm-11 1L8.5 8.5l.94-2.06 2.06-.94-2.06-.94L8.5 2.5l-.94 2.06-2.06.94zm10 10l.94 2.06.94-2.06 2.06-.94-2.06-.94-.94-2.06-.94 2.06-2.06.94z\"/><path d=\"M17.41 7.96l-1.37-1.37c-.4-.4-.92-.59-1.43-.59-.52 0-1.04.2-1.43.59L10.3 9.45l-7.72 7.72c-.78.78-.78 2.05 0 2.83L4 21.41c.39.39.9.59 1.41.59.51 0 1.02-.2 1.41-.59l7.78-7.78 2.81-2.81c.8-.78.8-2.07 0-2.86zM5.41 20L4 18.59l7.72-7.72 1.47 1.35L5.41 20z\"/>\n",
              "  </svg>\n",
              "      </button>\n",
              "      \n",
              "  <style>\n",
              "    .colab-df-container {\n",
              "      display:flex;\n",
              "      flex-wrap:wrap;\n",
              "      gap: 12px;\n",
              "    }\n",
              "\n",
              "    .colab-df-convert {\n",
              "      background-color: #E8F0FE;\n",
              "      border: none;\n",
              "      border-radius: 50%;\n",
              "      cursor: pointer;\n",
              "      display: none;\n",
              "      fill: #1967D2;\n",
              "      height: 32px;\n",
              "      padding: 0 0 0 0;\n",
              "      width: 32px;\n",
              "    }\n",
              "\n",
              "    .colab-df-convert:hover {\n",
              "      background-color: #E2EBFA;\n",
              "      box-shadow: 0px 1px 2px rgba(60, 64, 67, 0.3), 0px 1px 3px 1px rgba(60, 64, 67, 0.15);\n",
              "      fill: #174EA6;\n",
              "    }\n",
              "\n",
              "    [theme=dark] .colab-df-convert {\n",
              "      background-color: #3B4455;\n",
              "      fill: #D2E3FC;\n",
              "    }\n",
              "\n",
              "    [theme=dark] .colab-df-convert:hover {\n",
              "      background-color: #434B5C;\n",
              "      box-shadow: 0px 1px 3px 1px rgba(0, 0, 0, 0.15);\n",
              "      filter: drop-shadow(0px 1px 2px rgba(0, 0, 0, 0.3));\n",
              "      fill: #FFFFFF;\n",
              "    }\n",
              "  </style>\n",
              "\n",
              "      <script>\n",
              "        const buttonEl =\n",
              "          document.querySelector('#df-dd5a9d53-54c7-4c92-b762-168b166700a3 button.colab-df-convert');\n",
              "        buttonEl.style.display =\n",
              "          google.colab.kernel.accessAllowed ? 'block' : 'none';\n",
              "\n",
              "        async function convertToInteractive(key) {\n",
              "          const element = document.querySelector('#df-dd5a9d53-54c7-4c92-b762-168b166700a3');\n",
              "          const dataTable =\n",
              "            await google.colab.kernel.invokeFunction('convertToInteractive',\n",
              "                                                     [key], {});\n",
              "          if (!dataTable) return;\n",
              "\n",
              "          const docLinkHtml = 'Like what you see? Visit the ' +\n",
              "            '<a target=\"_blank\" href=https://colab.research.google.com/notebooks/data_table.ipynb>data table notebook</a>'\n",
              "            + ' to learn more about interactive tables.';\n",
              "          element.innerHTML = '';\n",
              "          dataTable['output_type'] = 'display_data';\n",
              "          await google.colab.output.renderOutput(dataTable, element);\n",
              "          const docLink = document.createElement('div');\n",
              "          docLink.innerHTML = docLinkHtml;\n",
              "          element.appendChild(docLink);\n",
              "        }\n",
              "      </script>\n",
              "    </div>\n",
              "  </div>\n",
              "  "
            ]
          },
          "metadata": {},
          "execution_count": 12
        }
      ],
      "source": [
        "df.loc[df.review.isna()]  # 0 NaN values"
      ]
    },
    {
      "cell_type": "code",
      "execution_count": null,
      "metadata": {
        "colab": {
          "base_uri": "https://localhost:8080/",
          "height": 140
        },
        "id": "SQ6lKbN1uZiN",
        "outputId": "4922a766-c4e8-478b-adae-36aa9765704d"
      },
      "outputs": [
        {
          "output_type": "execute_result",
          "data": {
            "text/plain": [
              "\"I really liked this Summerslam due to the look of the arena, the curtains and just the look overall was interesting to me for some reason. Anyways, this could have been one of the best Summerslam's ever if the WWF didn't have Lex Luger in the main event against Yokozuna, now for it's time it was ok to have a huge fat man vs a strong man but I'm glad times have changed. It was a terrible main event just like every match Luger is in is terrible. Other matches on the card were Razor Ramon vs Ted Dibiase, Steiner Brothers vs Heavenly Bodies, Shawn Michaels vs Curt Hening, this was the event where Shawn named his big monster of a body guard Diesel, IRS vs 1-2-3 Kid, Bret Hart first takes on Doink then takes on Jerry Lawler and stuff with the Harts and Lawler was always very interesting, then Ludvig Borga destroyed Marty Jannetty, Undertaker took on Giant Gonzalez in another terrible match, The Smoking Gunns and Tatanka took on Bam Bam Bigelow and the Headshrinkers, and Yokozuna defended the world title against Lex Luger this match was boring and it has a terrible ending. However it deserves 8/10\""
            ],
            "application/vnd.google.colaboratory.intrinsic+json": {
              "type": "string"
            }
          },
          "metadata": {},
          "execution_count": 13
        }
      ],
      "source": [
        "df.iloc[0,0]"
      ]
    },
    {
      "cell_type": "code",
      "execution_count": null,
      "metadata": {
        "id": "1UZLTIJRubDw"
      },
      "outputs": [],
      "source": [
        "df['review'] = df.review.str.replace(r'<br /><br />', ' ')  # replace <br /><br /> with a whitespace"
      ]
    },
    {
      "cell_type": "code",
      "execution_count": null,
      "metadata": {
        "id": "cQ3JmPc9ucpK"
      },
      "outputs": [],
      "source": [
        "stop_words = Counter(stopwords.words('english'))  # faster look-up if dictionary\n",
        "stop_words.pop(\"not\")\n",
        "stop_words.pop(\"no\")\n",
        "\n",
        "def review_cleaner(review, stop_words):\n",
        "    review = re.sub(r\"[^a-zA-Z]\", \" \", review)\n",
        "    review = re.sub(r'\\s+', ' ', review, flags=re.I)  # flags to ignore case\n",
        "    reduced_review = [word for word in review.lower().split() if word not in stop_words and len(word) > 1]\n",
        "    return ' '.join(reduced_review)"
      ]
    },
    {
      "cell_type": "code",
      "execution_count": null,
      "metadata": {
        "id": "8Vs00iFDud8J"
      },
      "outputs": [],
      "source": [
        "df['review'] = df.review.apply(lambda x: review_cleaner(x, stop_words))"
      ]
    },
    {
      "cell_type": "code",
      "execution_count": null,
      "metadata": {
        "colab": {
          "base_uri": "https://localhost:8080/",
          "height": 122
        },
        "id": "6Qu2-0GTulqM",
        "outputId": "5eaf377e-80d1-4217-d4b4-4b18e516d151"
      },
      "outputs": [
        {
          "output_type": "execute_result",
          "data": {
            "text/plain": [
              "'really liked summerslam due look arena curtains look overall interesting reason anyways could one best summerslam ever wwf lex luger main event yokozuna time ok huge fat man vs strong man glad times changed terrible main event like every match luger terrible matches card razor ramon vs ted dibiase steiner brothers vs heavenly bodies shawn michaels vs curt hening event shawn named big monster body guard diesel irs vs kid bret hart first takes doink takes jerry lawler stuff harts lawler always interesting ludvig borga destroyed marty jannetty undertaker took giant gonzalez another terrible match smoking gunns tatanka took bam bam bigelow headshrinkers yokozuna defended world title lex luger match boring terrible ending however deserves'"
            ],
            "application/vnd.google.colaboratory.intrinsic+json": {
              "type": "string"
            }
          },
          "metadata": {},
          "execution_count": 17
        }
      ],
      "source": [
        "df.iloc[0, 0]"
      ]
    },
    {
      "cell_type": "code",
      "execution_count": null,
      "metadata": {
        "colab": {
          "base_uri": "https://localhost:8080/",
          "height": 206
        },
        "id": "Fl4L2n8ounYb",
        "outputId": "ce9087de-0b37-4ff5-ec38-77d67dc743e2"
      },
      "outputs": [
        {
          "output_type": "execute_result",
          "data": {
            "text/plain": [
              "                                                  review  sentiment\n",
              "33553  really liked summerslam due look arena curtain...          1\n",
              "9427   not many television shows appeal quite many di...          1\n",
              "199    film quickly gets major chase scene ever incre...          0\n",
              "12447  jane austen would definitely approve one gwyne...          1\n",
              "39489  expectations somewhat high went see movie thou...          0"
            ],
            "text/html": [
              "\n",
              "  <div id=\"df-c76c4f88-65e0-4dc7-afad-b7f85971e162\">\n",
              "    <div class=\"colab-df-container\">\n",
              "      <div>\n",
              "<style scoped>\n",
              "    .dataframe tbody tr th:only-of-type {\n",
              "        vertical-align: middle;\n",
              "    }\n",
              "\n",
              "    .dataframe tbody tr th {\n",
              "        vertical-align: top;\n",
              "    }\n",
              "\n",
              "    .dataframe thead th {\n",
              "        text-align: right;\n",
              "    }\n",
              "</style>\n",
              "<table border=\"1\" class=\"dataframe\">\n",
              "  <thead>\n",
              "    <tr style=\"text-align: right;\">\n",
              "      <th></th>\n",
              "      <th>review</th>\n",
              "      <th>sentiment</th>\n",
              "    </tr>\n",
              "  </thead>\n",
              "  <tbody>\n",
              "    <tr>\n",
              "      <th>33553</th>\n",
              "      <td>really liked summerslam due look arena curtain...</td>\n",
              "      <td>1</td>\n",
              "    </tr>\n",
              "    <tr>\n",
              "      <th>9427</th>\n",
              "      <td>not many television shows appeal quite many di...</td>\n",
              "      <td>1</td>\n",
              "    </tr>\n",
              "    <tr>\n",
              "      <th>199</th>\n",
              "      <td>film quickly gets major chase scene ever incre...</td>\n",
              "      <td>0</td>\n",
              "    </tr>\n",
              "    <tr>\n",
              "      <th>12447</th>\n",
              "      <td>jane austen would definitely approve one gwyne...</td>\n",
              "      <td>1</td>\n",
              "    </tr>\n",
              "    <tr>\n",
              "      <th>39489</th>\n",
              "      <td>expectations somewhat high went see movie thou...</td>\n",
              "      <td>0</td>\n",
              "    </tr>\n",
              "  </tbody>\n",
              "</table>\n",
              "</div>\n",
              "      <button class=\"colab-df-convert\" onclick=\"convertToInteractive('df-c76c4f88-65e0-4dc7-afad-b7f85971e162')\"\n",
              "              title=\"Convert this dataframe to an interactive table.\"\n",
              "              style=\"display:none;\">\n",
              "        \n",
              "  <svg xmlns=\"http://www.w3.org/2000/svg\" height=\"24px\"viewBox=\"0 0 24 24\"\n",
              "       width=\"24px\">\n",
              "    <path d=\"M0 0h24v24H0V0z\" fill=\"none\"/>\n",
              "    <path d=\"M18.56 5.44l.94 2.06.94-2.06 2.06-.94-2.06-.94-.94-2.06-.94 2.06-2.06.94zm-11 1L8.5 8.5l.94-2.06 2.06-.94-2.06-.94L8.5 2.5l-.94 2.06-2.06.94zm10 10l.94 2.06.94-2.06 2.06-.94-2.06-.94-.94-2.06-.94 2.06-2.06.94z\"/><path d=\"M17.41 7.96l-1.37-1.37c-.4-.4-.92-.59-1.43-.59-.52 0-1.04.2-1.43.59L10.3 9.45l-7.72 7.72c-.78.78-.78 2.05 0 2.83L4 21.41c.39.39.9.59 1.41.59.51 0 1.02-.2 1.41-.59l7.78-7.78 2.81-2.81c.8-.78.8-2.07 0-2.86zM5.41 20L4 18.59l7.72-7.72 1.47 1.35L5.41 20z\"/>\n",
              "  </svg>\n",
              "      </button>\n",
              "      \n",
              "  <style>\n",
              "    .colab-df-container {\n",
              "      display:flex;\n",
              "      flex-wrap:wrap;\n",
              "      gap: 12px;\n",
              "    }\n",
              "\n",
              "    .colab-df-convert {\n",
              "      background-color: #E8F0FE;\n",
              "      border: none;\n",
              "      border-radius: 50%;\n",
              "      cursor: pointer;\n",
              "      display: none;\n",
              "      fill: #1967D2;\n",
              "      height: 32px;\n",
              "      padding: 0 0 0 0;\n",
              "      width: 32px;\n",
              "    }\n",
              "\n",
              "    .colab-df-convert:hover {\n",
              "      background-color: #E2EBFA;\n",
              "      box-shadow: 0px 1px 2px rgba(60, 64, 67, 0.3), 0px 1px 3px 1px rgba(60, 64, 67, 0.15);\n",
              "      fill: #174EA6;\n",
              "    }\n",
              "\n",
              "    [theme=dark] .colab-df-convert {\n",
              "      background-color: #3B4455;\n",
              "      fill: #D2E3FC;\n",
              "    }\n",
              "\n",
              "    [theme=dark] .colab-df-convert:hover {\n",
              "      background-color: #434B5C;\n",
              "      box-shadow: 0px 1px 3px 1px rgba(0, 0, 0, 0.15);\n",
              "      filter: drop-shadow(0px 1px 2px rgba(0, 0, 0, 0.3));\n",
              "      fill: #FFFFFF;\n",
              "    }\n",
              "  </style>\n",
              "\n",
              "      <script>\n",
              "        const buttonEl =\n",
              "          document.querySelector('#df-c76c4f88-65e0-4dc7-afad-b7f85971e162 button.colab-df-convert');\n",
              "        buttonEl.style.display =\n",
              "          google.colab.kernel.accessAllowed ? 'block' : 'none';\n",
              "\n",
              "        async function convertToInteractive(key) {\n",
              "          const element = document.querySelector('#df-c76c4f88-65e0-4dc7-afad-b7f85971e162');\n",
              "          const dataTable =\n",
              "            await google.colab.kernel.invokeFunction('convertToInteractive',\n",
              "                                                     [key], {});\n",
              "          if (!dataTable) return;\n",
              "\n",
              "          const docLinkHtml = 'Like what you see? Visit the ' +\n",
              "            '<a target=\"_blank\" href=https://colab.research.google.com/notebooks/data_table.ipynb>data table notebook</a>'\n",
              "            + ' to learn more about interactive tables.';\n",
              "          element.innerHTML = '';\n",
              "          dataTable['output_type'] = 'display_data';\n",
              "          await google.colab.output.renderOutput(dataTable, element);\n",
              "          const docLink = document.createElement('div');\n",
              "          docLink.innerHTML = docLinkHtml;\n",
              "          element.appendChild(docLink);\n",
              "        }\n",
              "      </script>\n",
              "    </div>\n",
              "  </div>\n",
              "  "
            ]
          },
          "metadata": {},
          "execution_count": 18
        }
      ],
      "source": [
        "df.sentiment.replace({'positive': 1, 'negative': 0}, inplace=True)\n",
        "df.head()"
      ]
    },
    {
      "cell_type": "markdown",
      "source": [
        "### Dataset Exploration"
      ],
      "metadata": {
        "id": "gFtVu_qJMPTX"
      }
    },
    {
      "cell_type": "code",
      "source": [
        "X_Total = TfidfVectorizer().fit_transform(df.review.tolist())  # tfidf the whole dataset\n",
        "svd = TruncatedSVD(n_components=3)  # Svd and only keep three columns\n",
        "svd_x = svd.fit_transform(X_Total)\n",
        "\n",
        "fig = plt.figure(figsize=(10,10))\n",
        "fig.patch.set_alpha(1)\n",
        "\n",
        "ax= fig.add_subplot(111, projection='3d')\n",
        "ax.scatter(svd_x[df.sentiment.to_numpy()==0,0], svd_x[df.sentiment.to_numpy()==0 ,1], svd_x[df.sentiment.to_numpy()==0,2], \n",
        "            c='r', edgecolor='k', marker='d', label='negative')\n",
        "ax.scatter(svd_x[df.sentiment.to_numpy()==1,0], svd_x[df.sentiment.to_numpy()==1 ,1], svd_x[df.sentiment.to_numpy()==1,2], \n",
        "            c='b', edgecolor='k', marker='.', label='positive')\n",
        "ax.set_title('Visualization of every review using SVD Reduction', fontsize=16)\n",
        "ax.legend(fontsize=14, loc='lower left')"
      ],
      "metadata": {
        "colab": {
          "base_uri": "https://localhost:8080/",
          "height": 592
        },
        "id": "LUTNV1roMSIm",
        "outputId": "afea2165-075e-4733-d879-b44f5b752dff"
      },
      "execution_count": null,
      "outputs": [
        {
          "output_type": "execute_result",
          "data": {
            "text/plain": [
              "<matplotlib.legend.Legend at 0x7f1bd1e817d0>"
            ]
          },
          "metadata": {},
          "execution_count": 13
        },
        {
          "output_type": "display_data",
          "data": {
            "text/plain": [
              "<Figure size 720x720 with 1 Axes>"
            ],
            "image/png": "[encoded data removed]"
          },
          "metadata": {}
        }
      ]
    },
    {
      "cell_type": "code",
      "source": [
        "fig = plt.figure(figsize=(10,9))\n",
        "fig.patch.set_alpha(1)\n",
        "ax = fig.add_subplot(111)\n",
        "\n",
        "labels = ['Positive', 'Negative']\n",
        "colors = ['#005779', '#790005']\n",
        "ax.pie(df.sentiment.value_counts().tolist(), colors=colors, autopct='%.1f%%', labels=labels,\n",
        "        pctdistance=0.8, textprops={'fontsize': 16}, startangle=120, shadow=0.9, explode=(0.05,0.01))\n",
        "ax.legend(labels, loc='lower right', fontsize=15)\n",
        "ax.set_title('Percentage of Positive and Negative Reviews', fontsize=18)\n",
        "\n",
        "centre_circle = plt.Circle((0,0),0.60,fc='white')\n",
        "fig1 = plt.gcf()\n",
        "fig1.gca().add_artist(centre_circle)"
      ],
      "metadata": {
        "colab": {
          "base_uri": "https://localhost:8080/",
          "height": 557
        },
        "id": "UYUSvhtAMUUr",
        "outputId": "074704e5-a23c-4734-e802-ff4bc46c0956"
      },
      "execution_count": null,
      "outputs": [
        {
          "output_type": "execute_result",
          "data": {
            "text/plain": [
              "<matplotlib.patches.Circle at 0x7f1bd22e61d0>"
            ]
          },
          "metadata": {},
          "execution_count": 14
        },
        {
          "output_type": "display_data",
          "data": {
            "text/plain": [
              "<Figure size 720x648 with 1 Axes>"
            ],
            "image/png": "[encoded data removed]"
          },
          "metadata": {}
        }
      ]
    },
    {
      "cell_type": "code",
      "source": [
        "vocab_size = len(set([word for sent in df.review.tolist() for word in sent.split()]))\n",
        "print(f'The dataset contains {len(df.review.tolist())} reviews and {vocab_size} unique words (after cleaning).')\n",
        "\n",
        "n_words = [len(sent.split()) for sent in df.review.tolist()]\n",
        "avg_review_len = np.mean(n_words)\n",
        "std_review_len = np.std(n_words)\n",
        "print(f'The average number of words in a review is {round(avg_review_len)} with a standard deviation of {round(std_review_len)}')"
      ],
      "metadata": {
        "colab": {
          "base_uri": "https://localhost:8080/"
        },
        "id": "2sOJ3GGzMaoi",
        "outputId": "8c0ba8dc-7322-4630-f6ab-f32c66b38c89"
      },
      "execution_count": null,
      "outputs": [
        {
          "output_type": "stream",
          "name": "stdout",
          "text": [
            "The dataset contains 10000 reviews and 51452 unique words (after cleaning).\n",
            "The average number of words in a review is 120 with a standard deviation of 90\n"
          ]
        }
      ]
    },
    {
      "cell_type": "code",
      "execution_count": null,
      "metadata": {
        "id": "IoBREDZ0uopg"
      },
      "outputs": [],
      "source": [
        "X_train, X_val, y_train, y_val = train_test_split(df.review, df.sentiment, test_size=0.3, random_state=0)\n",
        "X_dev, X_test, y_dev, y_test = train_test_split(X_val, y_val, test_size=0.7, random_state=0)"
      ]
    },
    {
      "cell_type": "markdown",
      "source": [
        "### Baselines"
      ],
      "metadata": {
        "id": "BT1cBV4oMv3q"
      }
    },
    {
      "cell_type": "markdown",
      "source": [
        "#### Logistic Regression"
      ],
      "metadata": {
        "id": "CPBRykj1QMdS"
      }
    },
    {
      "cell_type": "code",
      "source": [
        "lr = Pipeline([\n",
        "    ('tfidf', TfidfVectorizer(sublinear_tf=False, ngram_range=(1,1))),\n",
        "    ('kbest', SelectKBest(score_func=chi2, k=5000)),\n",
        "    ('lr', LogisticRegression(penalty='l2', solver='saga', max_iter=10000))\n",
        "])\n",
        "\n",
        "lr.fit(X_train, y_train)\n",
        "\n",
        "yhat_dev = lr.predict(X_dev)\n",
        "yhat_test = lr.predict(X_test)\n",
        "print(classification_report(y_dev, yhat_dev))"
      ],
      "metadata": {
        "colab": {
          "base_uri": "https://localhost:8080/"
        },
        "id": "Lmh7oVUCMx7c",
        "outputId": "0c75e976-f5e4-45d7-aa99-8e6f2d1bd376"
      },
      "execution_count": null,
      "outputs": [
        {
          "output_type": "stream",
          "name": "stdout",
          "text": [
            "              precision    recall  f1-score   support\n",
            "\n",
            "           0       0.87      0.83      0.85       434\n",
            "           1       0.85      0.89      0.87       466\n",
            "\n",
            "    accuracy                           0.86       900\n",
            "   macro avg       0.86      0.86      0.86       900\n",
            "weighted avg       0.86      0.86      0.86       900\n",
            "\n"
          ]
        }
      ]
    },
    {
      "cell_type": "code",
      "source": [
        "print(classification_report(y_test, yhat_test))"
      ],
      "metadata": {
        "colab": {
          "base_uri": "https://localhost:8080/"
        },
        "id": "MM0L4aizMyQ8",
        "outputId": "1d1de401-7db4-4bfa-aa1c-275189933246"
      },
      "execution_count": null,
      "outputs": [
        {
          "output_type": "stream",
          "name": "stdout",
          "text": [
            "              precision    recall  f1-score   support\n",
            "\n",
            "           0       0.89      0.85      0.87      1063\n",
            "           1       0.85      0.89      0.87      1037\n",
            "\n",
            "    accuracy                           0.87      2100\n",
            "   macro avg       0.87      0.87      0.87      2100\n",
            "weighted avg       0.87      0.87      0.87      2100\n",
            "\n"
          ]
        }
      ]
    },
    {
      "cell_type": "markdown",
      "source": [
        "#### Feed-Forward MLP"
      ],
      "metadata": {
        "id": "eW8vxzi4QRE7"
      }
    },
    {
      "cell_type": "code",
      "source": [
        "#vectorize X_train set\n",
        "vectorizer = TfidfVectorizer(ngram_range=(1,2), max_features = 7000, sublinear_tf=True)\n",
        "\n",
        "#tranform the rest accordingly\n",
        "X_train_tfidf = vectorizer.fit_transform(X_train)\n",
        "X_dev_tfidf = vectorizer.transform(X_dev)\n",
        "X_test_tfidf = vectorizer.transform(X_test)\n",
        "\n",
        "#sort indexes of sparse matrix as required for the neural network input\n",
        "scipy.sparse.csr_matrix.sort_indices(X_train_tfidf)\n",
        "scipy.sparse.csr_matrix.sort_indices(X_dev_tfidf)"
      ],
      "metadata": {
        "id": "Lw3sZSo_MygD"
      },
      "execution_count": null,
      "outputs": []
    },
    {
      "cell_type": "code",
      "source": [
        "model3 = Sequential()\n",
        "model3.add(Dense(128, input_dim=X_train_tfidf.shape[1], activation='relu'))\n",
        "model3.add(Dropout(rate=0.5))   \n",
        "model3.add(Dense(1, activation='sigmoid'))\n",
        "model3.compile(loss='binary_crossentropy', optimizer=tf.keras.optimizers.Adam(0.00051), metrics=['accuracy'])\n",
        "\n",
        "model3.summary()"
      ],
      "metadata": {
        "colab": {
          "base_uri": "https://localhost:8080/"
        },
        "id": "0Jho3C7EMyxj",
        "outputId": "7765b540-6804-489e-eb7f-09a3a41cd4b7"
      },
      "execution_count": null,
      "outputs": [
        {
          "output_type": "stream",
          "name": "stdout",
          "text": [
            "Model: \"sequential\"\n",
            "_________________________________________________________________\n",
            " Layer (type)                Output Shape              Param #   \n",
            "=================================================================\n",
            " dense_3 (Dense)             (None, 128)               896128    \n",
            "                                                                 \n",
            " dropout_14 (Dropout)        (None, 128)               0         \n",
            "                                                                 \n",
            " dense_4 (Dense)             (None, 1)                 129       \n",
            "                                                                 \n",
            "=================================================================\n",
            "Total params: 896,257\n",
            "Trainable params: 896,257\n",
            "Non-trainable params: 0\n",
            "_________________________________________________________________\n"
          ]
        }
      ]
    },
    {
      "cell_type": "code",
      "source": [
        "#initialize model\n",
        "callback = tf.keras.callbacks.EarlyStopping(monitor='val_loss', patience=5, restore_best_weights=True)\n",
        "history3 = model3.fit(X_train_tfidf, np.array(y_train), epochs=20, verbose=1,validation_data=(X_dev_tfidf, np.array(y_dev)), callbacks=[callback])"
      ],
      "metadata": {
        "colab": {
          "base_uri": "https://localhost:8080/"
        },
        "id": "Ave540jDMy75",
        "outputId": "5895ca4b-5a73-4ca0-fe87-83745ea48dd4"
      },
      "execution_count": null,
      "outputs": [
        {
          "output_type": "stream",
          "name": "stdout",
          "text": [
            "Epoch 1/20\n"
          ]
        },
        {
          "output_type": "stream",
          "name": "stderr",
          "text": [
            "/usr/local/lib/python3.7/dist-packages/tensorflow/python/framework/indexed_slices.py:446: UserWarning: Converting sparse IndexedSlices(IndexedSlices(indices=Tensor(\"gradient_tape/sequential/dense_3/embedding_lookup_sparse/Reshape_1:0\", shape=(None,), dtype=int32), values=Tensor(\"gradient_tape/sequential/dense_3/embedding_lookup_sparse/Reshape:0\", shape=(None, 128), dtype=float32), dense_shape=Tensor(\"gradient_tape/sequential/dense_3/embedding_lookup_sparse/Cast:0\", shape=(2,), dtype=int32))) to a dense Tensor of unknown shape. This may consume a large amount of memory.\n",
            "  \"shape. This may consume a large amount of memory.\" % value)\n"
          ]
        },
        {
          "output_type": "stream",
          "name": "stdout",
          "text": [
            "219/219 [==============================] - 3s 6ms/step - loss: 0.5873 - accuracy: 0.8046 - val_loss: 0.4536 - val_accuracy: 0.8500\n",
            "Epoch 2/20\n",
            "219/219 [==============================] - 1s 5ms/step - loss: 0.3347 - accuracy: 0.8987 - val_loss: 0.3307 - val_accuracy: 0.8589\n",
            "Epoch 3/20\n",
            "219/219 [==============================] - 1s 5ms/step - loss: 0.2229 - accuracy: 0.9306 - val_loss: 0.2950 - val_accuracy: 0.8644\n",
            "Epoch 4/20\n",
            "219/219 [==============================] - 1s 5ms/step - loss: 0.1626 - accuracy: 0.9551 - val_loss: 0.2926 - val_accuracy: 0.8600\n",
            "Epoch 5/20\n",
            "219/219 [==============================] - 1s 5ms/step - loss: 0.1231 - accuracy: 0.9689 - val_loss: 0.2961 - val_accuracy: 0.8578\n",
            "Epoch 6/20\n",
            "219/219 [==============================] - 1s 5ms/step - loss: 0.0933 - accuracy: 0.9814 - val_loss: 0.3067 - val_accuracy: 0.8522\n",
            "Epoch 7/20\n",
            "219/219 [==============================] - 1s 5ms/step - loss: 0.0718 - accuracy: 0.9886 - val_loss: 0.3195 - val_accuracy: 0.8500\n",
            "Epoch 8/20\n",
            "219/219 [==============================] - 1s 5ms/step - loss: 0.0565 - accuracy: 0.9931 - val_loss: 0.3379 - val_accuracy: 0.8422\n",
            "Epoch 9/20\n",
            "219/219 [==============================] - 1s 5ms/step - loss: 0.0431 - accuracy: 0.9961 - val_loss: 0.3559 - val_accuracy: 0.8433\n"
          ]
        }
      ]
    },
    {
      "cell_type": "code",
      "source": [
        "model3.evaluate(X_test_tfidf.todense(), y_test)"
      ],
      "metadata": {
        "colab": {
          "base_uri": "https://localhost:8080/"
        },
        "id": "_5bG4lubMzHe",
        "outputId": "cdbfe9f5-f7ab-40f2-ee2b-328c5d396b24"
      },
      "execution_count": null,
      "outputs": [
        {
          "output_type": "stream",
          "name": "stdout",
          "text": [
            "66/66 [==============================] - 0s 3ms/step - loss: 0.2716 - accuracy: 0.8890\n"
          ]
        },
        {
          "output_type": "execute_result",
          "data": {
            "text/plain": [
              "[0.27161744236946106, 0.8890476226806641]"
            ]
          },
          "metadata": {},
          "execution_count": 73
        }
      ]
    },
    {
      "cell_type": "code",
      "source": [
        "def acc_loss_plot(history):\n",
        "    fig = plt.figure(figsize=(15,5))\n",
        "    fig.suptitle(\"Training/Validation Results\", fontsize=17)\n",
        "    fig.patch.set_alpha(1)\n",
        "    for i in range(0, 2):\n",
        "        ax = fig.add_subplot(1,2,i+1)\n",
        "        ax.plot(history.history[list(history.history.keys())[i]], c='r', label='Training Loss' if i==0 else 'Training Accuracy')\n",
        "        ax.plot(history.history[list(history.history.keys())[i+2]], c='k',\n",
        "                label='Validation Loss' if i==0 else 'Validation Accuracy')\n",
        "        ax.legend(fontsize=11, loc='lower right' if i==1 else 'upper right')\n",
        "        ax.set_xlabel(\"Epochs\", fontsize=14)\n",
        "        ax.set_ylabel(\"Loss\" if i==0 else \"Accuracy\", fontsize=15)\n",
        "\n",
        "    return plt.show()"
      ],
      "metadata": {
        "id": "d6Gd5b6zMzV_"
      },
      "execution_count": null,
      "outputs": []
    },
    {
      "cell_type": "code",
      "source": [
        "acc_loss_plot(history3)"
      ],
      "metadata": {
        "colab": {
          "base_uri": "https://localhost:8080/",
          "height": 374
        },
        "id": "oFMlPzqaMzg5",
        "outputId": "1f6abe0c-5fa7-4f1b-b27c-9684a6a11dfb"
      },
      "execution_count": null,
      "outputs": [
        {
          "output_type": "display_data",
          "data": {
            "text/plain": [
              "<Figure size 1080x360 with 2 Axes>"
            ],
            "image/png": "[encoded data removed]"
          },
          "metadata": {}
        }
      ]
    },
    {
      "cell_type": "markdown",
      "source": [
        "#### RNN"
      ],
      "metadata": {
        "id": "DpOB_DokQFbB"
      }
    },
    {
      "cell_type": "code",
      "execution_count": null,
      "metadata": {
        "id": "fQAdUqu1uscz"
      },
      "outputs": [],
      "source": [
        "def dot_product(x, kernel):\n",
        "    \"\"\"\n",
        "    Wrapper for dot product operation, in order to be compatible with both\n",
        "    Theano and Tensorflow\n",
        "    Args:\n",
        "        x (): input\n",
        "        kernel (): weights\n",
        "    Returns:\n",
        "    \"\"\"\n",
        "    if K.backend() == 'tensorflow':\n",
        "      return K.squeeze(K.dot(x, K.expand_dims(kernel)), axis=-1)\n",
        "    else:\n",
        "      return K.dot(x, kernel)\n",
        "      \n",
        "class DeepAttention(Layer):\n",
        "    def __init__(self,\n",
        "                 kernel_regularizer=None, u_regularizer=None, bias_regularizer=None,\n",
        "                 W_constraint=None, u_constraint=None, b_constraint=None,\n",
        "                 bias=True, layers=2, activation='tanh',\n",
        "                 return_attention=False,\n",
        "                 **kwargs):\n",
        "\n",
        "        self.supports_masking = True\n",
        "        self.init = initializers.get('glorot_uniform')\n",
        "        self.layers = layers\n",
        "        self.activation = activation\n",
        "\n",
        "        self.W_regularizer = regularizers.get(kernel_regularizer)\n",
        "        self.W2_regularizer = regularizers.get(kernel_regularizer)\n",
        "        self.W3_regularizer = regularizers.get(kernel_regularizer)\n",
        "        self.u_regularizer = regularizers.get(u_regularizer)\n",
        "        self.b1_regularizer = regularizers.get(bias_regularizer)\n",
        "        self.b2_regularizer = regularizers.get(bias_regularizer)\n",
        "        self.b3_regularizer = regularizers.get(bias_regularizer)\n",
        "        self.b4_regularizer = regularizers.get(bias_regularizer)\n",
        "\n",
        "        self.W_constraint = constraints.get(W_constraint)\n",
        "        self.W2_constraint = constraints.get(W_constraint)\n",
        "        self.W3_constraint = constraints.get(W_constraint)\n",
        "        self.u_constraint = constraints.get(u_constraint)\n",
        "        self.b1_constraint = constraints.get(b_constraint)\n",
        "        self.b2_constraint = constraints.get(b_constraint)\n",
        "        self.b3_constraint = constraints.get(b_constraint)\n",
        "        self.b4_constraint = constraints.get(b_constraint)\n",
        "\n",
        "        self.bias = bias\n",
        "        self.return_attention = return_attention\n",
        "        super(DeepAttention, self).__init__(**kwargs)\n",
        "\n",
        "    def build(self, input_shape):\n",
        "        assert len(input_shape) == 3\n",
        "\n",
        "        self.W = self.add_weight(shape=(input_shape[-1], input_shape[-1],),\n",
        "                                 initializer=self.init,\n",
        "                                 name='{}_W'.format(self.name),\n",
        "                                 regularizer=self.W_regularizer,\n",
        "                                 constraint=self.W_constraint)\n",
        "        if self.layers in [3,4]:\n",
        "            self.W2 = self.add_weight(shape=(input_shape[-1], input_shape[-1],),\n",
        "                                    initializer=self.init,\n",
        "                                    name='{}_W2'.format(self.name),\n",
        "                                    regularizer=self.W2_regularizer,\n",
        "                                    constraint=self.W2_constraint)\n",
        "        if self.layers == 4:\n",
        "            self.W3 = self.add_weight(shape=(input_shape[-1], input_shape[-1],),\n",
        "                                    initializer=self.init,\n",
        "                                    name='{}_W3'.format(self.name),\n",
        "                                    regularizer=self.W3_regularizer,\n",
        "                                    constraint=self.W3_constraint)\n",
        "        \n",
        "        if self.bias:\n",
        "            self.b1 = self.add_weight(shape=(input_shape[-1],),\n",
        "                                     initializer='zero',\n",
        "                                     name='{}_b1'.format(self.name),\n",
        "                                     regularizer=self.b1_regularizer,\n",
        "                                     constraint=self.b1_constraint)\n",
        "            self.b2 = self.add_weight(shape=(1,),\n",
        "                                     initializer='zero',\n",
        "                                     name='{}_b2'.format(self.name),\n",
        "                                     regularizer=self.b2_regularizer,\n",
        "                                     constraint=self.b2_constraint)\n",
        "            if self.layers in [3,4]:\n",
        "                self.b3 = self.add_weight(shape=(1,),\n",
        "                                        initializer='zero',\n",
        "                                        name='{}_b3'.format(self.name),\n",
        "                                        regularizer=self.b3_regularizer,\n",
        "                                        constraint=self.b3_constraint)\n",
        "            if self.layers == 4:\n",
        "                self.b4 = self.add_weight(shape=(1,),\n",
        "                                        initializer='zero',\n",
        "                                        name='{}_b4'.format(self.name),\n",
        "                                        regularizer=self.b4_regularizer,\n",
        "                                        constraint=self.b4_constraint)\n",
        "        else:\n",
        "            self.b1 = None\n",
        "            self.b2 = None\n",
        "            self.b3 = None\n",
        "            self.b4 = None\n",
        "\n",
        "        self.u = self.add_weight(shape=(input_shape[-1],),\n",
        "                                 initializer=self.init,\n",
        "                                 name='{}_u'.format(self.name),\n",
        "                                 regularizer=self.u_regularizer,\n",
        "                                 constraint=self.u_constraint)\n",
        "\n",
        "        self.built = True\n",
        "\n",
        "\n",
        "    def compute_mask(self, inputs, mask=None):\n",
        "        # do not pass the mask to the next layers\n",
        "        if self.return_attention:\n",
        "            return [None, None]\n",
        "        return None\n",
        "\n",
        "    def call(self, x, mask=None):\n",
        "        # uit = tanh(Wx + b)\n",
        "        uit = dot_product(x, self.W)\n",
        "\n",
        "        if self.bias:\n",
        "            uit += self.b1\n",
        "        \n",
        "        if self.activation == 'tanh':\n",
        "            uit = K.tanh(uit)\n",
        "        else:\n",
        "            uit = K.relu(uit)\n",
        "        \n",
        "        vit = uit\n",
        "        \n",
        "        if self.layers in [3,4]:\n",
        "            uit2 = dot_product(uit, self.W2)\n",
        "\n",
        "            if self.bias:\n",
        "                uit2 += self.b3\n",
        "\n",
        "            if self.activation == 'tanh':\n",
        "                uit2 = K.tanh(uit2)\n",
        "            else:\n",
        "                uit2 = K.relu(uit2)\n",
        "            vit = uit2\n",
        "\n",
        "        if self.layers == 4:\n",
        "            uit3 = dot_product(uit2, self.W3)\n",
        "\n",
        "            if self.bias:\n",
        "                uit3 += self.b4\n",
        "\n",
        "            if self.activation == 'tanh':\n",
        "                uit3 = K.tanh(uit3)\n",
        "            else:\n",
        "                uit3 = K.relu(uit3)\n",
        "            vit = uit3\n",
        "        \n",
        "\n",
        "        # ait = softmax(Ueij)\n",
        "        eij = dot_product(vit, self.u)\n",
        "        if self.bias:\n",
        "            eij += self.b2\n",
        "\n",
        "        # Apply mask\n",
        "        if mask is not None:\n",
        "            eij *= K.cast(mask, K.floatx())\n",
        "\n",
        "        a = K.expand_dims(K.softmax(eij, axis=-1))\n",
        "        \n",
        "        weighted_input = x * a\n",
        "        result = K.sum(weighted_input, axis=1)\n",
        "\n",
        "        if self.return_attention:\n",
        "            return [result, a]\n",
        "        return result\n",
        "\n",
        "    def compute_output_shape(self, input_shape):\n",
        "        if self.return_attention:\n",
        "            return [(input_shape[0], input_shape[-1]),\n",
        "                    (input_shape[0], input_shape[1])]\n",
        "        else:\n",
        "            return input_shape[0], input_shape[-1]"
      ]
    },
    {
      "cell_type": "code",
      "execution_count": null,
      "metadata": {
        "id": "DQkxWsHHut0_"
      },
      "outputs": [],
      "source": [
        "tokenizer = Tokenizer(oov_token='__UNK__')  # Create an instance of the tokenizer\n",
        "tokenizer.fit_on_texts(X_train)  # tokenize the training set\n",
        "\n",
        "v_size = len(tokenizer.word_index) + 1  # +1 for the padding "
      ]
    },
    {
      "cell_type": "code",
      "execution_count": null,
      "metadata": {
        "colab": {
          "base_uri": "https://localhost:8080/"
        },
        "id": "D9s9uaE593Y-",
        "outputId": "81576989-d614-4e5e-d4f5-d6c70d309334"
      },
      "outputs": [
        {
          "output_type": "execute_result",
          "data": {
            "text/plain": [
              "44447"
            ]
          },
          "metadata": {},
          "execution_count": 22
        }
      ],
      "source": [
        "len(tokenizer.word_index)"
      ]
    },
    {
      "cell_type": "code",
      "execution_count": null,
      "metadata": {
        "id": "_ssJlWL7uvZ6"
      },
      "outputs": [],
      "source": [
        "# Convert the sets to a sequence of unique indices that were attached to each voacabulary words\n",
        "train_sequences = tokenizer.texts_to_sequences(X_train)\n",
        "dev_sequences = tokenizer.texts_to_sequences(X_dev)\n",
        "test_sequences = tokenizer.texts_to_sequences(X_test)"
      ]
    },
    {
      "cell_type": "code",
      "execution_count": null,
      "metadata": {
        "id": "qWDct71Suwkj"
      },
      "outputs": [],
      "source": [
        "sent_lengths = [len(s.split()) for s in X_train]\n",
        "mean_l_sent = np.mean(sent_lengths)\n",
        "std_l_sent = np.std(sent_lengths)\n",
        "\n",
        "max_len = round(mean_l_sent + std_l_sent)\n",
        "\n",
        "# pad/trim the sentences so that all of them have the same length. The length that was chosen was the mean + the standard deviation of words from all the sentences\n",
        "train_padded = pad_sequences(train_sequences, maxlen=max_len, truncating='post', padding='post')\n",
        "dev_padded = pad_sequences(dev_sequences, maxlen=max_len, padding='post', truncating='post')\n",
        "test_padded = pad_sequences(test_sequences, maxlen=max_len, padding='post', truncating='post')"
      ]
    },
    {
      "cell_type": "code",
      "execution_count": null,
      "metadata": {
        "id": "wGfTlf56uxzN"
      },
      "outputs": [],
      "source": [
        "def embedding_matrix_creator(tokenizer, embeddings_dict, dim, vsize):  # create an embedding matrix using the pretrained embeddings\n",
        "    embedding_matrix = np.zeros((v_size, dim))\n",
        "    missed_words = []\n",
        "    replaced = []\n",
        "\n",
        "    for word,i in tokenizer.word_index.items():\n",
        "        if i < v_size:\n",
        "            try:\n",
        "                emb_vec = embeddings_dict[word]\n",
        "            except:\n",
        "                if word == '__UNK__':\n",
        "                    emb_vec = None\n",
        "                else:\n",
        "                    for j in range(len(word), 2, -1):  # iterate the word backwards\n",
        "                        try:\n",
        "                            emb_vec = embeddings_dict[word[:j]]  # check if the 'smaller' word has an embedding\n",
        "                            replaced.append(word[:j])\n",
        "                            break\n",
        "                        except:\n",
        "                            emb_vec = None\n",
        "                    missed_words.append(word)  # count the words that were not found in the embeddings vocabulary\n",
        "                    \n",
        "            if emb_vec is not None:\n",
        "                embedding_matrix[i] = emb_vec\n",
        "            \n",
        "    return embedding_matrix, missed_words, replaced"
      ]
    },
    {
      "cell_type": "code",
      "execution_count": null,
      "metadata": {
        "id": "UJSdiKXhu_9x"
      },
      "outputs": [],
      "source": [
        "filename = 'cc.en.300.vec'  # fasttext\n",
        "f_emb = KeyedVectors.load_word2vec_format(filename)"
      ]
    },
    {
      "cell_type": "code",
      "execution_count": null,
      "metadata": {
        "id": "xqTIYjVEvBiG"
      },
      "outputs": [],
      "source": [
        "embedding_matrix, miss, replaced = embedding_matrix_creator(tokenizer, f_emb, 300, v_size)  # create embeddings matrix"
      ]
    },
    {
      "cell_type": "code",
      "execution_count": null,
      "metadata": {
        "colab": {
          "base_uri": "https://localhost:8080/"
        },
        "id": "x9Wt3hMZbquj",
        "outputId": "26d53a21-758f-454f-accc-af3e30a9d80e"
      },
      "outputs": [
        {
          "output_type": "stream",
          "name": "stdout",
          "text": [
            "5809 words did not have an embedding. Most of them were replaced by a lower-count ngram. Some of them are:\n",
            "\n",
            "Word matthau was replaced with word matth.\n",
            "\n",
            "Word stanwyck was replaced with word stan.\n",
            "\n",
            "Word fulci was replaced with word ful.\n",
            "\n",
            "Word rockne was replaced with word rockn.\n",
            "\n",
            "Word branagh was replaced with word brana.\n",
            "\n",
            "Word depardieu was replaced with word depar.\n",
            "\n",
            "Word huppert was replaced with word hup.\n",
            "\n",
            "Word mitchum was replaced with word mitch.\n",
            "\n",
            "Word preminger was replaced with word premi.\n",
            "\n",
            "Word verhoeven was replaced with word verh.\n",
            "\n"
          ]
        }
      ],
      "source": [
        "print(f\"{len(miss)} words did not have an embedding. Most of them were replaced by a lower-count ngram. Some of them are:\\n\")\n",
        "for i in range(10):\n",
        "    print(f\"Word {miss[i]} was replaced with word {replaced[i]}.\\n\")"
      ]
    },
    {
      "cell_type": "code",
      "execution_count": null,
      "metadata": {
        "id": "FJym-ACXB5E_"
      },
      "outputs": [],
      "source": [
        "def build_lstm(hp):\n",
        "\n",
        "  inputs = Input((max_len,))\n",
        "  next = Embedding(v_size, 300, weights=[embedding_matrix], input_length=max_len, trainable=False, mask_zero=True)(inputs)\n",
        "\n",
        "\n",
        "  next = Dropout(hp.Float(\"dropout 1\", min_value=0, max_value=0.5))(next)\n",
        "\n",
        "\n",
        "  for i in range(hp.Int(\"number of LSTM layers\", 1, 3)):\n",
        "    next = Bidirectional(LSTM(units = hp.Int('LSTM nodes', min_value=100, max_value=300, step=100), return_sequences=True, recurrent_dropout = hp.Float(\"variotonal dropout lstm\", min_value=0, max_value=0.5)))(next) \n",
        "    if hp.Boolean('Normalization ?'):\n",
        "      next = LayerNormalization()(next)\n",
        "    next = Dropout(hp.Float(\"dropout 2\", min_value=0, max_value=0.5))(next)\n",
        "\n",
        "  \n",
        "  \n",
        "  next = DeepAttention(layers=hp.Choice('Attention Layers ?',[2,3,4]), activation=hp.Choice('Attention activation function ?',['relu','tanh']), return_attention=False)(next)\n",
        "  next = Dropout(hp.Float(\"dropout 3\", min_value=0, max_value=0.5))(next)\n",
        "\n",
        "\n",
        "  extra_dense = hp.Choice('Extra Dense nodes?',[0,32,64])\n",
        "  extra_dense_drop = hp.Float(\"dropout 4?\", min_value=0, max_value=0.5)\n",
        "  if(extra_dense !=0):\n",
        "    next = Dense(units=extra_dense, activation=\"relu\")(next)\n",
        "    next = Dropout(extra_dense_drop)(next)\n",
        "\n",
        "\n",
        "  out = Dense(1, activation='sigmoid')(next)\n",
        "  model = Model(inputs, out)\n",
        "\n",
        "  lr = hp.Float(\"learning rate\", min_value=1e-4, max_value=1e-2,sampling='log')\n",
        "  model.compile(loss='binary_crossentropy', optimizer=tf.keras.optimizers.Adam(lr), metrics=['accuracy'])\n",
        "\n",
        "  return model"
      ]
    },
    {
      "cell_type": "code",
      "execution_count": null,
      "metadata": {
        "colab": {
          "base_uri": "https://localhost:8080/"
        },
        "id": "NGFcL8D5B-S0",
        "outputId": "c80c3469-c5a3-4062-e4f3-47c95d1156f3"
      },
      "outputs": [
        {
          "output_type": "stream",
          "name": "stdout",
          "text": [
            "Search space summary\n",
            "Default search space size: 12\n",
            "dropout 1 (Float)\n",
            "{'default': 0.0, 'conditions': [], 'min_value': 0.0, 'max_value': 0.5, 'step': None, 'sampling': None}\n",
            "number of LSTM layers (Int)\n",
            "{'default': None, 'conditions': [], 'min_value': 1, 'max_value': 3, 'step': 1, 'sampling': None}\n",
            "LSTM nodes (Int)\n",
            "{'default': None, 'conditions': [], 'min_value': 100, 'max_value': 300, 'step': 100, 'sampling': None}\n",
            "variotonal dropout lstm (Float)\n",
            "{'default': 0.0, 'conditions': [], 'min_value': 0.0, 'max_value': 0.5, 'step': None, 'sampling': None}\n",
            "Normalization ? (Boolean)\n",
            "{'default': False, 'conditions': []}\n",
            "dropout 2 (Float)\n",
            "{'default': 0.0, 'conditions': [], 'min_value': 0.0, 'max_value': 0.5, 'step': None, 'sampling': None}\n",
            "Attention Layers ? (Choice)\n",
            "{'default': 2, 'conditions': [], 'values': [2, 3, 4], 'ordered': True}\n",
            "Attention activation function ? (Choice)\n",
            "{'default': 'relu', 'conditions': [], 'values': ['relu', 'tanh'], 'ordered': False}\n",
            "dropout 3 (Float)\n",
            "{'default': 0.0, 'conditions': [], 'min_value': 0.0, 'max_value': 0.5, 'step': None, 'sampling': None}\n",
            "Extra Dense nodes? (Choice)\n",
            "{'default': 0, 'conditions': [], 'values': [0, 32, 64], 'ordered': True}\n",
            "dropout 4? (Float)\n",
            "{'default': 0.0, 'conditions': [], 'min_value': 0.0, 'max_value': 0.5, 'step': None, 'sampling': None}\n",
            "learning rate (Float)\n",
            "{'default': 0.0001, 'conditions': [], 'min_value': 0.0001, 'max_value': 0.01, 'step': None, 'sampling': 'log'}\n"
          ]
        }
      ],
      "source": [
        "tuner = kt.BayesianOptimization(\n",
        "    hypermodel=build_lstm,\n",
        "    objective=\"val_loss\",\n",
        "    max_trials=3,\n",
        "    num_initial_points=2,\n",
        "    overwrite=True,\n",
        "    directory=\"best_params\"\n",
        ")\n",
        "tuner.search_space_summary()"
      ]
    },
    {
      "cell_type": "code",
      "execution_count": null,
      "metadata": {
        "colab": {
          "base_uri": "https://localhost:8080/"
        },
        "id": "Y0-kLj7qEHq1",
        "outputId": "cfd9ce79-65e9-4375-aa69-6129cecadb96"
      },
      "outputs": [
        {
          "output_type": "stream",
          "name": "stdout",
          "text": [
            "Trial 3 Complete [00h 09m 03s]\n",
            "val_loss: 0.6578664183616638\n",
            "\n",
            "Best val_loss So Far: 0.3179837167263031\n",
            "Total elapsed time: 03h 08m 31s\n",
            "INFO:tensorflow:Oracle triggered exit\n"
          ]
        }
      ],
      "source": [
        "es = EarlyStopping(monitor='val_loss', patience=5, restore_best_weights=True)\n",
        "tuner.search(train_padded, np.array(y_train), epochs=1000, verbose=1, \n",
        "                validation_data=(dev_padded, np.array(y_dev)), callbacks=[es], batch_size=128)"
      ]
    },
    {
      "cell_type": "code",
      "source": [
        "tuner.results_summary()"
      ],
      "metadata": {
        "id": "_OvFVX3K0KsG",
        "colab": {
          "base_uri": "https://localhost:8080/"
        },
        "outputId": "d4f462f9-0188-4ad1-902e-faa8c2b97585"
      },
      "execution_count": null,
      "outputs": [
        {
          "output_type": "stream",
          "name": "stdout",
          "text": [
            "Results summary\n",
            "Results in best_params/untitled_project\n",
            "Showing 10 best trials\n",
            "Objective(name='val_loss', direction='min')\n",
            "Trial summary\n",
            "Hyperparameters:\n",
            "dropout 1: 0.4689039868634631\n",
            "number of LSTM layers: 2\n",
            "LSTM nodes: 200\n",
            "variotonal dropout lstm: 0.36401422041453746\n",
            "Normalization ?: False\n",
            "dropout 2: 0.32162835578120347\n",
            "Attention Layers ?: 4\n",
            "Attention activation function ?: relu\n",
            "dropout 3: 0.41793780561010696\n",
            "Extra Dense nodes?: 0\n",
            "dropout 4?: 0.23234270169676097\n",
            "learning rate: 0.0020312059283255943\n",
            "Score: 0.3179837167263031\n",
            "Trial summary\n",
            "Hyperparameters:\n",
            "dropout 1: 0.39700854096800964\n",
            "number of LSTM layers: 3\n",
            "LSTM nodes: 200\n",
            "variotonal dropout lstm: 0.3331062445950656\n",
            "Normalization ?: False\n",
            "dropout 2: 0.4305711294806757\n",
            "Attention Layers ?: 4\n",
            "Attention activation function ?: relu\n",
            "dropout 3: 0.09318047438980287\n",
            "Extra Dense nodes?: 0\n",
            "dropout 4?: 0.4614174714698592\n",
            "learning rate: 0.000982791737416396\n",
            "Score: 0.3455426096916199\n",
            "Trial summary\n",
            "Hyperparameters:\n",
            "dropout 1: 0.5\n",
            "number of LSTM layers: 1\n",
            "LSTM nodes: 200\n",
            "variotonal dropout lstm: 0.5\n",
            "Normalization ?: False\n",
            "dropout 2: 0.0\n",
            "Attention Layers ?: 4\n",
            "Attention activation function ?: relu\n",
            "dropout 3: 0.5\n",
            "Extra Dense nodes?: 0\n",
            "dropout 4?: 0.0\n",
            "learning rate: 0.01\n",
            "Score: 0.6578664183616638\n"
          ]
        }
      ]
    },
    {
      "cell_type": "code",
      "execution_count": null,
      "metadata": {
        "colab": {
          "base_uri": "https://localhost:8080/"
        },
        "id": "arq288g437Ng",
        "outputId": "4f63a5d4-f4b2-4d65-d9a7-766b82f71503"
      },
      "outputs": [
        {
          "output_type": "stream",
          "name": "stdout",
          "text": [
            "WARNING:tensorflow:Layer lstm_6 will not use cuDNN kernels since it doesn't meet the criteria. It will use a generic GPU kernel as fallback when running on GPU.\n",
            "WARNING:tensorflow:Layer lstm_6 will not use cuDNN kernels since it doesn't meet the criteria. It will use a generic GPU kernel as fallback when running on GPU.\n",
            "WARNING:tensorflow:Layer lstm_6 will not use cuDNN kernels since it doesn't meet the criteria. It will use a generic GPU kernel as fallback when running on GPU.\n",
            "WARNING:tensorflow:Layer lstm_7 will not use cuDNN kernels since it doesn't meet the criteria. It will use a generic GPU kernel as fallback when running on GPU.\n",
            "WARNING:tensorflow:Layer lstm_7 will not use cuDNN kernels since it doesn't meet the criteria. It will use a generic GPU kernel as fallback when running on GPU.\n",
            "WARNING:tensorflow:Layer lstm_7 will not use cuDNN kernels since it doesn't meet the criteria. It will use a generic GPU kernel as fallback when running on GPU.\n",
            "Model: \"model_2\"\n",
            "_________________________________________________________________\n",
            " Layer (type)                Output Shape              Param #   \n",
            "=================================================================\n",
            " input_5 (InputLayer)        [(None, 211)]             0         \n",
            "                                                                 \n",
            " embedding_4 (Embedding)     (None, 211, 300)          13334400  \n",
            "                                                                 \n",
            " dropout_10 (Dropout)        (None, 211, 300)          0         \n",
            "                                                                 \n",
            " bidirectional_6 (Bidirectio  (None, 211, 400)         801600    \n",
            " nal)                                                            \n",
            "                                                                 \n",
            " dropout_11 (Dropout)        (None, 211, 400)          0         \n",
            "                                                                 \n",
            " bidirectional_7 (Bidirectio  (None, 211, 400)         961600    \n",
            " nal)                                                            \n",
            "                                                                 \n",
            " dropout_12 (Dropout)        (None, 211, 400)          0         \n",
            "                                                                 \n",
            " deep_attention_2 (DeepAtten  [(None, 400),            480803    \n",
            " tion)                        (None, 211, 1)]                    \n",
            "                                                                 \n",
            " dropout_13 (Dropout)        (None, 400)               0         \n",
            "                                                                 \n",
            " dense_2 (Dense)             (None, 1)                 401       \n",
            "                                                                 \n",
            "=================================================================\n",
            "Total params: 15,578,804\n",
            "Trainable params: 2,244,404\n",
            "Non-trainable params: 13,334,400\n",
            "_________________________________________________________________\n"
          ]
        }
      ],
      "source": [
        "input_w = Input(shape=(max_len,))\n",
        "embeddings_w = Embedding(v_size, 300, weights=[embedding_matrix], input_length=max_len, trainable=False, mask_zero=True)(input_w)\n",
        "word_dropout = Dropout(0.4689)(embeddings_w)\n",
        "bi_lstm = Bidirectional(LSTM(units=200, recurrent_dropout=0.364, return_sequences=True))(word_dropout)\n",
        "dropout2 = Dropout(0.3216)(bi_lstm)\n",
        "bi_lstm2 = Bidirectional(LSTM(units=200, recurrent_dropout=0.364, return_sequences=True))(dropout2)\n",
        "dropout3 = Dropout(0.3216)(bi_lstm2)\n",
        "attn_layer, attn = DeepAttention(layers=4, activation='relu', return_attention=True)(dropout3)\n",
        "dropout4 = Dropout(0.41793)(attn_layer)\n",
        "output = Dense(units=1, activation='sigmoid')(dropout4)\n",
        "\n",
        "model = Model(input_w, output)\n",
        "\n",
        "opt = Adam(learning_rate=0.0020312059283255943)\n",
        "model.compile(loss='binary_crossentropy', optimizer=opt, metrics=['accuracy'])\n",
        "model.summary()"
      ]
    },
    {
      "cell_type": "code",
      "execution_count": null,
      "metadata": {
        "colab": {
          "base_uri": "https://localhost:8080/"
        },
        "id": "8OWMDuZR4imM",
        "outputId": "a373f642-3858-4da9-e0ea-79bb75c893dd"
      },
      "outputs": [
        {
          "output_type": "stream",
          "name": "stdout",
          "text": [
            "Epoch 1/1000\n",
            "55/55 [==============================] - 187s 3s/step - loss: 0.5259 - accuracy: 0.7426 - val_loss: 0.4657 - val_accuracy: 0.8067\n",
            "Epoch 2/1000\n",
            "55/55 [==============================] - 175s 3s/step - loss: 0.4370 - accuracy: 0.8007 - val_loss: 0.4692 - val_accuracy: 0.7822\n",
            "Epoch 3/1000\n",
            "55/55 [==============================] - 175s 3s/step - loss: 0.4211 - accuracy: 0.8104 - val_loss: 0.3869 - val_accuracy: 0.8300\n",
            "Epoch 4/1000\n",
            "55/55 [==============================] - 175s 3s/step - loss: 0.3821 - accuracy: 0.8301 - val_loss: 0.3845 - val_accuracy: 0.8278\n",
            "Epoch 5/1000\n",
            "55/55 [==============================] - 176s 3s/step - loss: 0.3787 - accuracy: 0.8329 - val_loss: 0.3690 - val_accuracy: 0.8400\n",
            "Epoch 6/1000\n",
            "55/55 [==============================] - 174s 3s/step - loss: 0.3633 - accuracy: 0.8393 - val_loss: 0.3627 - val_accuracy: 0.8367\n",
            "Epoch 7/1000\n",
            "55/55 [==============================] - 173s 3s/step - loss: 0.3509 - accuracy: 0.8469 - val_loss: 0.3738 - val_accuracy: 0.8400\n",
            "Epoch 8/1000\n",
            "55/55 [==============================] - 174s 3s/step - loss: 0.3554 - accuracy: 0.8444 - val_loss: 0.3477 - val_accuracy: 0.8444\n",
            "Epoch 9/1000\n",
            "55/55 [==============================] - 174s 3s/step - loss: 0.3270 - accuracy: 0.8584 - val_loss: 0.3412 - val_accuracy: 0.8489\n",
            "Epoch 10/1000\n",
            "55/55 [==============================] - 173s 3s/step - loss: 0.3180 - accuracy: 0.8659 - val_loss: 0.3355 - val_accuracy: 0.8489\n",
            "Epoch 11/1000\n",
            "55/55 [==============================] - 172s 3s/step - loss: 0.3089 - accuracy: 0.8714 - val_loss: 0.3752 - val_accuracy: 0.8367\n",
            "Epoch 12/1000\n",
            "55/55 [==============================] - 174s 3s/step - loss: 0.3118 - accuracy: 0.8647 - val_loss: 0.3293 - val_accuracy: 0.8500\n",
            "Epoch 13/1000\n",
            "55/55 [==============================] - 172s 3s/step - loss: 0.2904 - accuracy: 0.8764 - val_loss: 0.3179 - val_accuracy: 0.8533\n",
            "Epoch 14/1000\n",
            "55/55 [==============================] - 174s 3s/step - loss: 0.2806 - accuracy: 0.8850 - val_loss: 0.3495 - val_accuracy: 0.8489\n",
            "Epoch 15/1000\n",
            "55/55 [==============================] - 175s 3s/step - loss: 0.2689 - accuracy: 0.8849 - val_loss: 0.3439 - val_accuracy: 0.8389\n",
            "Epoch 16/1000\n",
            "55/55 [==============================] - 173s 3s/step - loss: 0.2577 - accuracy: 0.8909 - val_loss: 0.3763 - val_accuracy: 0.8278\n",
            "Epoch 17/1000\n",
            "55/55 [==============================] - 174s 3s/step - loss: 0.2576 - accuracy: 0.8953 - val_loss: 0.3275 - val_accuracy: 0.8556\n",
            "Epoch 18/1000\n",
            "55/55 [==============================] - 175s 3s/step - loss: 0.2538 - accuracy: 0.8950 - val_loss: 0.3219 - val_accuracy: 0.8556\n"
          ]
        }
      ],
      "source": [
        "es = EarlyStopping(monitor='val_loss', patience=5, restore_best_weights=True)\n",
        "history = model.fit(train_padded, np.array(y_train), epochs=1000, batch_size=128,\n",
        "                    validation_data=(dev_padded, np.array(y_dev)), callbacks=[es])"
      ]
    },
    {
      "cell_type": "code",
      "source": [
        "model.evaluate(test_padded, y_test)"
      ],
      "metadata": {
        "colab": {
          "base_uri": "https://localhost:8080/"
        },
        "id": "d7nvFowkXyyU",
        "outputId": "63db4959-74ff-4b60-b822-45d3c7d28e34"
      },
      "execution_count": null,
      "outputs": [
        {
          "output_type": "stream",
          "name": "stdout",
          "text": [
            "66/66 [==============================] - 17s 239ms/step - loss: 0.3043 - accuracy: 0.8667\n"
          ]
        },
        {
          "output_type": "execute_result",
          "data": {
            "text/plain": [
              "[0.3043007552623749, 0.8666666746139526]"
            ]
          },
          "metadata": {},
          "execution_count": 61
        }
      ]
    },
    {
      "cell_type": "code",
      "source": [
        "acc_loss_plot(history)"
      ],
      "metadata": {
        "colab": {
          "base_uri": "https://localhost:8080/",
          "height": 374
        },
        "id": "u6E5EpqwX--m",
        "outputId": "b6d5718b-93aa-4bf3-f683-354977098fc7"
      },
      "execution_count": null,
      "outputs": [
        {
          "output_type": "display_data",
          "data": {
            "text/plain": [
              "<Figure size 1080x360 with 2 Axes>"
            ],
            "image/png": "[encoded data removed]"
          },
          "metadata": {}
        }
      ]
    },
    {
      "cell_type": "markdown",
      "metadata": {
        "id": "hVDRxLuO87lU"
      },
      "source": [
        "##### Character Embeddings"
      ]
    },
    {
      "cell_type": "code",
      "execution_count": null,
      "metadata": {
        "id": "gf91QzR12NqO"
      },
      "outputs": [],
      "source": [
        "char_ind = {c: i+1 for i,c in enumerate(list(string.ascii_lowercase))}  # create a character-index dictionary"
      ]
    },
    {
      "cell_type": "code",
      "execution_count": null,
      "metadata": {
        "colab": {
          "base_uri": "https://localhost:8080/"
        },
        "id": "B6WoTjOOt0-p",
        "outputId": "5070e78f-5913-4075-c81d-c85668de0a3c"
      },
      "outputs": [
        {
          "output_type": "execute_result",
          "data": {
            "text/plain": [
              "dict_keys(['a', 'b', 'c', 'd', 'e', 'f', 'g', 'h', 'i', 'j', 'k', 'l', 'm', 'n', 'o', 'p', 'q', 'r', 's', 't', 'u', 'v', 'w', 'x', 'y', 'z'])"
            ]
          },
          "metadata": {},
          "execution_count": 30
        }
      ],
      "source": [
        "char_ind.keys()"
      ]
    },
    {
      "cell_type": "code",
      "execution_count": null,
      "metadata": {
        "id": "fdupM2-9RmeZ"
      },
      "outputs": [],
      "source": [
        "def sent_to_char_ind(char_ind, sentences, max_len, max_sent_len):\n",
        "    sent_char_seq = []\n",
        "    for sent in sentences:  # for each sentence\n",
        "        word_seq = []\n",
        "        for word in sent.split():  # for each word\n",
        "            char_seq = []\n",
        "            for char in word:  # for each character\n",
        "                if len(char_seq) < max_len:\n",
        "                    char_seq.append(char_ind[char])  # append the character's index if the length is smalled than the predifined one\n",
        "                else:\n",
        "                    break\n",
        "            while len(char_seq) < max_len:  # pad if the length is smaller\n",
        "                char_seq.append(0)\n",
        "            if len(word_seq) < max_sent_len:\n",
        "                word_seq.append(char_seq)\n",
        "        while len(word_seq) < max_sent_len:\n",
        "            word_seq.append([0 for i in range(max_len)])  # pad the sentences so that all of them have the same length\n",
        "        sent_char_seq.append(word_seq)\n",
        "    return sent_char_seq"
      ]
    },
    {
      "cell_type": "code",
      "execution_count": null,
      "metadata": {
        "id": "Lfl2-ULzU4PO"
      },
      "outputs": [],
      "source": [
        "char_train = sent_to_char_ind(char_ind, X_train.tolist(), 12, max_len)\n",
        "char_dev = sent_to_char_ind(char_ind, X_dev.tolist(), 12, max_len)\n",
        "char_test = sent_to_char_ind(char_ind, X_test.tolist(), 12, max_len)"
      ]
    },
    {
      "cell_type": "code",
      "execution_count": null,
      "metadata": {
        "colab": {
          "base_uri": "https://localhost:8080/"
        },
        "id": "pH7KF_EK1nIA",
        "outputId": "4041b067-11e5-495b-af1c-a6c967afe172"
      },
      "outputs": [
        {
          "output_type": "execute_result",
          "data": {
            "text/plain": [
              "(2100,)"
            ]
          },
          "metadata": {},
          "execution_count": 33
        }
      ],
      "source": [
        "np.array(X_test).shape"
      ]
    },
    {
      "cell_type": "code",
      "execution_count": null,
      "metadata": {
        "colab": {
          "base_uri": "https://localhost:8080/"
        },
        "id": "t5x3S3s-vOZU",
        "outputId": "055119c5-e578-453f-8167-dd9daaf9e6d8"
      },
      "outputs": [
        {
          "output_type": "stream",
          "name": "stdout",
          "text": [
            "WARNING:tensorflow:Layer lstm_3 will not use cuDNN kernels since it doesn't meet the criteria. It will use a generic GPU kernel as fallback when running on GPU.\n",
            "WARNING:tensorflow:Layer lstm_3 will not use cuDNN kernels since it doesn't meet the criteria. It will use a generic GPU kernel as fallback when running on GPU.\n",
            "WARNING:tensorflow:Layer lstm_3 will not use cuDNN kernels since it doesn't meet the criteria. It will use a generic GPU kernel as fallback when running on GPU.\n",
            "WARNING:tensorflow:Layer lstm_4 will not use cuDNN kernels since it doesn't meet the criteria. It will use a generic GPU kernel as fallback when running on GPU.\n",
            "WARNING:tensorflow:Layer lstm_4 will not use cuDNN kernels since it doesn't meet the criteria. It will use a generic GPU kernel as fallback when running on GPU.\n",
            "WARNING:tensorflow:Layer lstm_4 will not use cuDNN kernels since it doesn't meet the criteria. It will use a generic GPU kernel as fallback when running on GPU.\n",
            "WARNING:tensorflow:Layer lstm_5 will not use cuDNN kernels since it doesn't meet the criteria. It will use a generic GPU kernel as fallback when running on GPU.\n",
            "WARNING:tensorflow:Layer lstm_5 will not use cuDNN kernels since it doesn't meet the criteria. It will use a generic GPU kernel as fallback when running on GPU.\n",
            "WARNING:tensorflow:Layer lstm_5 will not use cuDNN kernels since it doesn't meet the criteria. It will use a generic GPU kernel as fallback when running on GPU.\n",
            "Model: \"model_1\"\n",
            "__________________________________________________________________________________________________\n",
            " Layer (type)                   Output Shape         Param #     Connected to                     \n",
            "==================================================================================================\n",
            " input_3 (InputLayer)           [(None, 211, 12)]    0           []                               \n",
            "                                                                                                  \n",
            " time_distributed_2 (TimeDistri  (None, 211, 12, 50)  1350       ['input_3[0][0]']                \n",
            " buted)                                                                                           \n",
            "                                                                                                  \n",
            " input_4 (InputLayer)           [(None, 211)]        0           []                               \n",
            "                                                                                                  \n",
            " time_distributed_3 (TimeDistri  (None, 211, 100)    40400       ['time_distributed_2[0][0]']     \n",
            " buted)                                                                                           \n",
            "                                                                                                  \n",
            " embedding_3 (Embedding)        (None, 211, 300)     13334400    ['input_4[0][0]']                \n",
            "                                                                                                  \n",
            " dropout_5 (Dropout)            (None, 211, 100)     0           ['time_distributed_3[0][0]']     \n",
            "                                                                                                  \n",
            " dropout_6 (Dropout)            (None, 211, 300)     0           ['embedding_3[0][0]']            \n",
            "                                                                                                  \n",
            " concatenate_1 (Concatenate)    (None, 211, 400)     0           ['dropout_5[0][0]',              \n",
            "                                                                  'dropout_6[0][0]']              \n",
            "                                                                                                  \n",
            " bidirectional_4 (Bidirectional  (None, 211, 400)    961600      ['concatenate_1[0][0]']          \n",
            " )                                                                                                \n",
            "                                                                                                  \n",
            " dropout_7 (Dropout)            (None, 211, 400)     0           ['bidirectional_4[0][0]']        \n",
            "                                                                                                  \n",
            " bidirectional_5 (Bidirectional  (None, 211, 400)    961600      ['dropout_7[0][0]']              \n",
            " )                                                                                                \n",
            "                                                                                                  \n",
            " dropout_8 (Dropout)            (None, 211, 400)     0           ['bidirectional_5[0][0]']        \n",
            "                                                                                                  \n",
            " deep_attention_1 (DeepAttentio  [(None, 400),       480803      ['dropout_8[0][0]']              \n",
            " n)                              (None, 211, 1)]                                                  \n",
            "                                                                                                  \n",
            " dropout_9 (Dropout)            (None, 400)          0           ['deep_attention_1[0][0]']       \n",
            "                                                                                                  \n",
            " dense_1 (Dense)                (None, 1)            401         ['dropout_9[0][0]']              \n",
            "                                                                                                  \n",
            "==================================================================================================\n",
            "Total params: 15,780,554\n",
            "Trainable params: 2,446,154\n",
            "Non-trainable params: 13,334,400\n",
            "__________________________________________________________________________________________________\n"
          ]
        }
      ],
      "source": [
        "input_c = Input(shape=(max_len,12))\n",
        "embeddings_c = TimeDistributed(Embedding(input_dim=len(char_ind)+1, output_dim=50, \n",
        "                                         input_length=12, trainable=True, mask_zero=True))(input_c)\n",
        "char_lstm = TimeDistributed(Bidirectional(LSTM(units=50, recurrent_dropout=0.2)))(embeddings_c)\n",
        "char_dropout = Dropout(0.2)(char_lstm)\n",
        "\n",
        "input_w = Input(shape=(max_len,))\n",
        "embeddings_w = Embedding(v_size, 300, weights=[embedding_matrix], input_length=max_len, trainable=False, mask_zero=True)(input_w)\n",
        "word_dropout = Dropout(0.2)(embeddings_w)\n",
        "\n",
        "concat = concatenate([char_dropout, word_dropout], axis=-1)\n",
        "bi_lstm = Bidirectional(LSTM(units=200, recurrent_dropout=0.364, return_sequences=True))(concat)\n",
        "dropout2 = Dropout(0.3216)(bi_lstm)\n",
        "bi_lstm2 = Bidirectional(LSTM(units=200, recurrent_dropout=0.364, return_sequences=True))(dropout2)\n",
        "dropout3 = Dropout(0.3216)(bi_lstm2)\n",
        "attn_layer, attn = DeepAttention(layers=4, activation='relu', return_attention=True)(dropout3)\n",
        "dropout4 = Dropout(0.41793)(attn_layer)\n",
        "output = Dense(units=1, activation='sigmoid')(dropout4)\n",
        "\n",
        "model2 = Model([input_c, input_w], output)\n",
        "\n",
        "opt = Adam(learning_rate=0.0009)\n",
        "model2.compile(loss='binary_crossentropy', optimizer=opt, metrics=['accuracy'])\n",
        "model2.summary()"
      ]
    },
    {
      "cell_type": "code",
      "execution_count": null,
      "metadata": {
        "colab": {
          "base_uri": "https://localhost:8080/",
          "height": 1000
        },
        "id": "IxbgjX9X_x5a",
        "outputId": "101dfe35-2fa5-46f1-d4a1-422ddae1f47a"
      },
      "outputs": [
        {
          "output_type": "execute_result",
          "data": {
            "text/plain": [
              "<IPython.core.display.Image object>"
            ],
            "image/png": "[encoded data removed]"
          },
          "metadata": {},
          "execution_count": 46
        }
      ],
      "source": [
        "tf.keras.utils.plot_model(model2, show_shapes=False, show_layer_names=False)"
      ]
    },
    {
      "cell_type": "code",
      "execution_count": null,
      "metadata": {
        "colab": {
          "base_uri": "https://localhost:8080/"
        },
        "id": "EpanVy2jvRhf",
        "outputId": "2a4b33cd-2ee3-43b0-f1e7-8798be50c71e"
      },
      "outputs": [
        {
          "output_type": "stream",
          "name": "stdout",
          "text": [
            "Epoch 1/1000\n",
            "55/55 [==============================] - 213s 4s/step - loss: 0.5381 - accuracy: 0.7231 - val_loss: 0.4699 - val_accuracy: 0.7889\n",
            "Epoch 2/1000\n",
            "55/55 [==============================] - 192s 3s/step - loss: 0.4407 - accuracy: 0.8010 - val_loss: 0.4137 - val_accuracy: 0.8144\n",
            "Epoch 3/1000\n",
            "55/55 [==============================] - 190s 3s/step - loss: 0.3850 - accuracy: 0.8260 - val_loss: 0.4071 - val_accuracy: 0.8122\n",
            "Epoch 4/1000\n",
            "55/55 [==============================] - 187s 3s/step - loss: 0.3879 - accuracy: 0.8289 - val_loss: 0.4089 - val_accuracy: 0.8178\n",
            "Epoch 5/1000\n",
            "55/55 [==============================] - 189s 3s/step - loss: 0.3605 - accuracy: 0.8409 - val_loss: 0.4146 - val_accuracy: 0.8156\n",
            "Epoch 6/1000\n",
            "55/55 [==============================] - 189s 3s/step - loss: 0.3354 - accuracy: 0.8504 - val_loss: 0.3738 - val_accuracy: 0.8311\n",
            "Epoch 7/1000\n",
            "55/55 [==============================] - 207s 4s/step - loss: 0.3346 - accuracy: 0.8556 - val_loss: 0.3866 - val_accuracy: 0.8178\n",
            "Epoch 8/1000\n",
            "55/55 [==============================] - 189s 3s/step - loss: 0.3228 - accuracy: 0.8644 - val_loss: 0.4199 - val_accuracy: 0.8111\n",
            "Epoch 9/1000\n",
            "55/55 [==============================] - 188s 3s/step - loss: 0.3144 - accuracy: 0.8629 - val_loss: 0.3801 - val_accuracy: 0.8189\n",
            "Epoch 10/1000\n",
            "55/55 [==============================] - 189s 3s/step - loss: 0.2900 - accuracy: 0.8773 - val_loss: 0.3797 - val_accuracy: 0.8389\n",
            "Epoch 11/1000\n",
            "55/55 [==============================] - 189s 3s/step - loss: 0.2946 - accuracy: 0.8729 - val_loss: 0.4132 - val_accuracy: 0.8133\n"
          ]
        }
      ],
      "source": [
        "es = EarlyStopping(monitor='val_loss', patience=5, restore_best_weights=True)\n",
        "history = model2.fit([np.array(char_train), train_padded], np.array(y_train), epochs=1000, batch_size=128, \n",
        "                     validation_data=([np.array(char_dev), dev_padded], np.array(y_dev)), callbacks=[es])"
      ]
    },
    {
      "cell_type": "code",
      "source": [
        "acc_loss_plot(history)"
      ],
      "metadata": {
        "colab": {
          "base_uri": "https://localhost:8080/",
          "height": 374
        },
        "id": "laDF6knFBCfk",
        "outputId": "80f0ca63-79e9-40ee-d10d-8edd6a5fbede"
      },
      "execution_count": null,
      "outputs": [
        {
          "output_type": "display_data",
          "data": {
            "text/plain": [
              "<Figure size 1080x360 with 2 Axes>"
            ],
            "image/png": "[encoded data removed]"
          },
          "metadata": {}
        }
      ]
    },
    {
      "cell_type": "code",
      "execution_count": null,
      "metadata": {
        "id": "UBlOA4JwzkfG",
        "colab": {
          "base_uri": "https://localhost:8080/"
        },
        "outputId": "06c50de9-e97e-4115-c359-0f883db14226"
      },
      "outputs": [
        {
          "output_type": "stream",
          "name": "stdout",
          "text": [
            "66/66 [==============================] - 18s 275ms/step - loss: 0.3489 - accuracy: 0.8400\n"
          ]
        },
        {
          "output_type": "execute_result",
          "data": {
            "text/plain": [
              "[0.3489031195640564, 0.8399999737739563]"
            ]
          },
          "metadata": {},
          "execution_count": 51
        }
      ],
      "source": [
        "model2.evaluate([np.array(char_test),test_padded], np.array(y_test))"
      ]
    },
    {
      "cell_type": "markdown",
      "source": [
        "#### Score tables"
      ],
      "metadata": {
        "id": "-cy9B7Hc5mCI"
      }
    },
    {
      "cell_type": "code",
      "execution_count": null,
      "metadata": {
        "id": "dok7ULoeIdiC"
      },
      "outputs": [],
      "source": [
        "def score_func(model, X_test, y_test, lr=False):\n",
        "    \"\"\"\n",
        "    calculates and returns a dictionary with all the prediction scores\n",
        "    \"\"\"\n",
        "    scores = {}\n",
        "    \n",
        "    if not lr:\n",
        "        yhat = np.where(model.predict(X_test) > 0.5, 1, 0).reshape(-1,)\n",
        "        y_probs = model.predict(X_test)\n",
        "    else:\n",
        "        yhat = model.predict(X_test)\n",
        "        y_probs = model.predict_proba(X_test)\n",
        "    \n",
        "    scores['Accuracy'] = accuracy_score(y_test, yhat)\n",
        "    scores['Recall0'] = recall_score(y_test, yhat, average=None, labels=[0])[0]\n",
        "    scores['Recall1'] = recall_score(y_test, yhat, average=None, labels=[1])[0]\n",
        "    scores['Recall_macro'] = recall_score(y_test, yhat, average='macro')\n",
        "    scores['Precision0'] = precision_score(y_test, yhat, average=None, labels=[0])[0]\n",
        "    scores['Precision1'] = precision_score(y_test, yhat, average=None, labels=[1])[0]\n",
        "    scores['Precision_macro'] = precision_score(y_test, yhat, average='macro')\n",
        "    scores['F1_0'] = f1_score(y_test, yhat, average=None, labels=[0])[0]\n",
        "    scores['F1_1'] = f1_score(y_test, yhat, average=None, labels=[1])[0]\n",
        "    scores['F1_macro'] = f1_score(y_test, yhat, average='macro')\n",
        "\n",
        "    if not lr:\n",
        "        scores['AUC0'] = average_precision_score(y_test, 1 - y_probs, pos_label = 0, average=None)\n",
        "        scores['AUC1'] = average_precision_score(y_test, y_probs, pos_label = 1, average=None)\n",
        "        scores['AUC_macro'] = average_precision_score(y_test, y_probs)\n",
        "    else:\n",
        "        scores['AUC0'] = average_precision_score(y_test, y_probs[:,0], pos_label = 0, average=None)\n",
        "        scores['AUC1'] = average_precision_score(y_test, y_probs[:,1], pos_label = 1, average=None)\n",
        "        scores['AUC_macro'] = average_precision_score(y_test, y_probs[:,1])\n",
        "    \n",
        "    return scores"
      ]
    },
    {
      "cell_type": "code",
      "execution_count": null,
      "metadata": {
        "id": "y7GWu7-CJOW8"
      },
      "outputs": [],
      "source": [
        "m1_test_scores = score_func(model, test_padded, np.array(y_test))\n",
        "m1_dev_scores = score_func(model, dev_padded, np.array(y_dev))\n",
        "m1_train_scores = score_func(model, train_padded, np.array(y_train))\n",
        "\n",
        "m2_test_scores = score_func(model2, [np.array(char_test),test_padded], np.array(y_test))\n",
        "m2_dev_scores = score_func(model2, [np.array(char_dev),dev_padded], np.array(y_dev))\n",
        "m2_train_scores = score_func(model2, [np.array(char_train),train_padded], np.array(y_train))\n",
        "\n",
        "m3_test_scores = score_func(model3, X_test_tfidf.todense(), np.array(y_test))\n",
        "m3_dev_scores = score_func(model3, X_dev_tfidf.todense(), np.array(y_dev))\n",
        "m3_train_scores = score_func(model3, X_train_tfidf.todense(), np.array(y_train))\n",
        "\n",
        "lr_test_scores = score_func(lr, X_test, np.array(y_test), lr=True)\n",
        "lr_dev_scores = score_func(lr, X_dev, np.array(y_dev), lr=True)\n",
        "lr_train_scores = score_func(lr, X_train, np.array(y_train), lr=True)"
      ]
    },
    {
      "cell_type": "code",
      "source": [
        "def scores_table(dictionaries):\n",
        "    \"\"\"\n",
        "    -arg 'dictionaries' must be a list of dictionaries, where the first dictionary is the training scores,\\n\n",
        "    the second dictionary must be the development scores and the last dictionary the test scores\n",
        "    \"\"\"\n",
        "    dict = {}\n",
        "    for k in list(dictionaries[0].keys()):\n",
        "        dict[k] = list(d[k] for d in dictionaries)\n",
        "    \n",
        "    df = pd.DataFrame.from_dict(dict, orient='index').rename(columns={0:'Training Set', 1: 'Development Set', 2:'Test Set'})\n",
        "    return df"
      ],
      "metadata": {
        "id": "Ha-yftCB7aBu"
      },
      "execution_count": null,
      "outputs": []
    },
    {
      "cell_type": "code",
      "source": [
        "model1_scores = scores_table([m1_train_scores, m1_dev_scores, m1_test_scores])\n",
        "model2_scores = scores_table([m2_train_scores, m2_dev_scores, m2_test_scores])\n",
        "model3_scores = scores_table([m3_train_scores, m3_dev_scores, m3_test_scores])\n",
        "lr_scores = scores_table([lr_train_scores, lr_dev_scores, lr_test_scores])"
      ],
      "metadata": {
        "id": "Gd1rLCYT7cu1"
      },
      "execution_count": null,
      "outputs": []
    },
    {
      "cell_type": "code",
      "source": [
        "model1_scores"
      ],
      "metadata": {
        "id": "SQhimKCM7q-O",
        "colab": {
          "base_uri": "https://localhost:8080/",
          "height": 457
        },
        "outputId": "675bd37b-1776-4e2d-df2e-d2798060aee6"
      },
      "execution_count": null,
      "outputs": [
        {
          "output_type": "execute_result",
          "data": {
            "text/plain": [
              "                 Training Set  Development Set  Test Set\n",
              "Accuracy             0.913429         0.853333  0.866667\n",
              "Recall0              0.887991         0.817972  0.841957\n",
              "Recall1              0.938348         0.886266  0.891996\n",
              "Recall_macro         0.913170         0.852119  0.866976\n",
              "Precision0           0.933819         0.870098  0.888779\n",
              "Precision1           0.895305         0.839431  0.846295\n",
              "Precision_macro      0.914562         0.854764  0.867537\n",
              "F1_0                 0.910328         0.843230  0.864734\n",
              "F1_1                 0.916321         0.862213  0.868545\n",
              "F1_macro             0.913325         0.852722  0.866639\n",
              "AUC0                 0.972393         0.938852  0.949706\n",
              "AUC1                 0.973313         0.940421  0.938561\n",
              "AUC_macro            0.973313         0.940421  0.938561"
            ],
            "text/html": [
              "\n",
              "  <div id=\"df-3a75b356-f0d3-4e54-b369-528775c0650d\">\n",
              "    <div class=\"colab-df-container\">\n",
              "      <div>\n",
              "<style scoped>\n",
              "    .dataframe tbody tr th:only-of-type {\n",
              "        vertical-align: middle;\n",
              "    }\n",
              "\n",
              "    .dataframe tbody tr th {\n",
              "        vertical-align: top;\n",
              "    }\n",
              "\n",
              "    .dataframe thead th {\n",
              "        text-align: right;\n",
              "    }\n",
              "</style>\n",
              "<table border=\"1\" class=\"dataframe\">\n",
              "  <thead>\n",
              "    <tr style=\"text-align: right;\">\n",
              "      <th></th>\n",
              "      <th>Training Set</th>\n",
              "      <th>Development Set</th>\n",
              "      <th>Test Set</th>\n",
              "    </tr>\n",
              "  </thead>\n",
              "  <tbody>\n",
              "    <tr>\n",
              "      <th>Accuracy</th>\n",
              "      <td>0.913429</td>\n",
              "      <td>0.853333</td>\n",
              "      <td>0.866667</td>\n",
              "    </tr>\n",
              "    <tr>\n",
              "      <th>Recall0</th>\n",
              "      <td>0.887991</td>\n",
              "      <td>0.817972</td>\n",
              "      <td>0.841957</td>\n",
              "    </tr>\n",
              "    <tr>\n",
              "      <th>Recall1</th>\n",
              "      <td>0.938348</td>\n",
              "      <td>0.886266</td>\n",
              "      <td>0.891996</td>\n",
              "    </tr>\n",
              "    <tr>\n",
              "      <th>Recall_macro</th>\n",
              "      <td>0.913170</td>\n",
              "      <td>0.852119</td>\n",
              "      <td>0.866976</td>\n",
              "    </tr>\n",
              "    <tr>\n",
              "      <th>Precision0</th>\n",
              "      <td>0.933819</td>\n",
              "      <td>0.870098</td>\n",
              "      <td>0.888779</td>\n",
              "    </tr>\n",
              "    <tr>\n",
              "      <th>Precision1</th>\n",
              "      <td>0.895305</td>\n",
              "      <td>0.839431</td>\n",
              "      <td>0.846295</td>\n",
              "    </tr>\n",
              "    <tr>\n",
              "      <th>Precision_macro</th>\n",
              "      <td>0.914562</td>\n",
              "      <td>0.854764</td>\n",
              "      <td>0.867537</td>\n",
              "    </tr>\n",
              "    <tr>\n",
              "      <th>F1_0</th>\n",
              "      <td>0.910328</td>\n",
              "      <td>0.843230</td>\n",
              "      <td>0.864734</td>\n",
              "    </tr>\n",
              "    <tr>\n",
              "      <th>F1_1</th>\n",
              "      <td>0.916321</td>\n",
              "      <td>0.862213</td>\n",
              "      <td>0.868545</td>\n",
              "    </tr>\n",
              "    <tr>\n",
              "      <th>F1_macro</th>\n",
              "      <td>0.913325</td>\n",
              "      <td>0.852722</td>\n",
              "      <td>0.866639</td>\n",
              "    </tr>\n",
              "    <tr>\n",
              "      <th>AUC0</th>\n",
              "      <td>0.972393</td>\n",
              "      <td>0.938852</td>\n",
              "      <td>0.949706</td>\n",
              "    </tr>\n",
              "    <tr>\n",
              "      <th>AUC1</th>\n",
              "      <td>0.973313</td>\n",
              "      <td>0.940421</td>\n",
              "      <td>0.938561</td>\n",
              "    </tr>\n",
              "    <tr>\n",
              "      <th>AUC_macro</th>\n",
              "      <td>0.973313</td>\n",
              "      <td>0.940421</td>\n",
              "      <td>0.938561</td>\n",
              "    </tr>\n",
              "  </tbody>\n",
              "</table>\n",
              "</div>\n",
              "      <button class=\"colab-df-convert\" onclick=\"convertToInteractive('df-3a75b356-f0d3-4e54-b369-528775c0650d')\"\n",
              "              title=\"Convert this dataframe to an interactive table.\"\n",
              "              style=\"display:none;\">\n",
              "        \n",
              "  <svg xmlns=\"http://www.w3.org/2000/svg\" height=\"24px\"viewBox=\"0 0 24 24\"\n",
              "       width=\"24px\">\n",
              "    <path d=\"M0 0h24v24H0V0z\" fill=\"none\"/>\n",
              "    <path d=\"M18.56 5.44l.94 2.06.94-2.06 2.06-.94-2.06-.94-.94-2.06-.94 2.06-2.06.94zm-11 1L8.5 8.5l.94-2.06 2.06-.94-2.06-.94L8.5 2.5l-.94 2.06-2.06.94zm10 10l.94 2.06.94-2.06 2.06-.94-2.06-.94-.94-2.06-.94 2.06-2.06.94z\"/><path d=\"M17.41 7.96l-1.37-1.37c-.4-.4-.92-.59-1.43-.59-.52 0-1.04.2-1.43.59L10.3 9.45l-7.72 7.72c-.78.78-.78 2.05 0 2.83L4 21.41c.39.39.9.59 1.41.59.51 0 1.02-.2 1.41-.59l7.78-7.78 2.81-2.81c.8-.78.8-2.07 0-2.86zM5.41 20L4 18.59l7.72-7.72 1.47 1.35L5.41 20z\"/>\n",
              "  </svg>\n",
              "      </button>\n",
              "      \n",
              "  <style>\n",
              "    .colab-df-container {\n",
              "      display:flex;\n",
              "      flex-wrap:wrap;\n",
              "      gap: 12px;\n",
              "    }\n",
              "\n",
              "    .colab-df-convert {\n",
              "      background-color: #E8F0FE;\n",
              "      border: none;\n",
              "      border-radius: 50%;\n",
              "      cursor: pointer;\n",
              "      display: none;\n",
              "      fill: #1967D2;\n",
              "      height: 32px;\n",
              "      padding: 0 0 0 0;\n",
              "      width: 32px;\n",
              "    }\n",
              "\n",
              "    .colab-df-convert:hover {\n",
              "      background-color: #E2EBFA;\n",
              "      box-shadow: 0px 1px 2px rgba(60, 64, 67, 0.3), 0px 1px 3px 1px rgba(60, 64, 67, 0.15);\n",
              "      fill: #174EA6;\n",
              "    }\n",
              "\n",
              "    [theme=dark] .colab-df-convert {\n",
              "      background-color: #3B4455;\n",
              "      fill: #D2E3FC;\n",
              "    }\n",
              "\n",
              "    [theme=dark] .colab-df-convert:hover {\n",
              "      background-color: #434B5C;\n",
              "      box-shadow: 0px 1px 3px 1px rgba(0, 0, 0, 0.15);\n",
              "      filter: drop-shadow(0px 1px 2px rgba(0, 0, 0, 0.3));\n",
              "      fill: #FFFFFF;\n",
              "    }\n",
              "  </style>\n",
              "\n",
              "      <script>\n",
              "        const buttonEl =\n",
              "          document.querySelector('#df-3a75b356-f0d3-4e54-b369-528775c0650d button.colab-df-convert');\n",
              "        buttonEl.style.display =\n",
              "          google.colab.kernel.accessAllowed ? 'block' : 'none';\n",
              "\n",
              "        async function convertToInteractive(key) {\n",
              "          const element = document.querySelector('#df-3a75b356-f0d3-4e54-b369-528775c0650d');\n",
              "          const dataTable =\n",
              "            await google.colab.kernel.invokeFunction('convertToInteractive',\n",
              "                                                     [key], {});\n",
              "          if (!dataTable) return;\n",
              "\n",
              "          const docLinkHtml = 'Like what you see? Visit the ' +\n",
              "            '<a target=\"_blank\" href=https://colab.research.google.com/notebooks/data_table.ipynb>data table notebook</a>'\n",
              "            + ' to learn more about interactive tables.';\n",
              "          element.innerHTML = '';\n",
              "          dataTable['output_type'] = 'display_data';\n",
              "          await google.colab.output.renderOutput(dataTable, element);\n",
              "          const docLink = document.createElement('div');\n",
              "          docLink.innerHTML = docLinkHtml;\n",
              "          element.appendChild(docLink);\n",
              "        }\n",
              "      </script>\n",
              "    </div>\n",
              "  </div>\n",
              "  "
            ]
          },
          "metadata": {},
          "execution_count": 66
        }
      ]
    },
    {
      "cell_type": "code",
      "source": [
        "model2_scores"
      ],
      "metadata": {
        "id": "1-Gy1Agv7vmh",
        "colab": {
          "base_uri": "https://localhost:8080/",
          "height": 457
        },
        "outputId": "21307d63-3290-41f9-da70-a8a7dd23e851"
      },
      "execution_count": null,
      "outputs": [
        {
          "output_type": "execute_result",
          "data": {
            "text/plain": [
              "                 Training Set  Development Set  Test Set\n",
              "Accuracy             0.875000         0.831111  0.840000\n",
              "Recall0              0.837760         0.813364  0.807150\n",
              "Recall1              0.911482         0.847639  0.873674\n",
              "Recall_macro         0.874621         0.830502  0.840412\n",
              "Precision0           0.902644         0.832547  0.867543\n",
              "Precision1           0.851519         0.829832  0.815482\n",
              "Precision_macro      0.877082         0.831190  0.841512\n",
              "F1_0                 0.868992         0.822844  0.836257\n",
              "F1_1                 0.880481         0.838641  0.843575\n",
              "F1_macro             0.874737         0.830743  0.839916\n",
              "AUC0                 0.947591         0.912503  0.930700\n",
              "AUC1                 0.947403         0.914726  0.922342\n",
              "AUC_macro            0.947403         0.914726  0.922342"
            ],
            "text/html": [
              "\n",
              "  <div id=\"df-fe5e4482-f88e-4e7d-9900-dcc4be27aefb\">\n",
              "    <div class=\"colab-df-container\">\n",
              "      <div>\n",
              "<style scoped>\n",
              "    .dataframe tbody tr th:only-of-type {\n",
              "        vertical-align: middle;\n",
              "    }\n",
              "\n",
              "    .dataframe tbody tr th {\n",
              "        vertical-align: top;\n",
              "    }\n",
              "\n",
              "    .dataframe thead th {\n",
              "        text-align: right;\n",
              "    }\n",
              "</style>\n",
              "<table border=\"1\" class=\"dataframe\">\n",
              "  <thead>\n",
              "    <tr style=\"text-align: right;\">\n",
              "      <th></th>\n",
              "      <th>Training Set</th>\n",
              "      <th>Development Set</th>\n",
              "      <th>Test Set</th>\n",
              "    </tr>\n",
              "  </thead>\n",
              "  <tbody>\n",
              "    <tr>\n",
              "      <th>Accuracy</th>\n",
              "      <td>0.875000</td>\n",
              "      <td>0.831111</td>\n",
              "      <td>0.840000</td>\n",
              "    </tr>\n",
              "    <tr>\n",
              "      <th>Recall0</th>\n",
              "      <td>0.837760</td>\n",
              "      <td>0.813364</td>\n",
              "      <td>0.807150</td>\n",
              "    </tr>\n",
              "    <tr>\n",
              "      <th>Recall1</th>\n",
              "      <td>0.911482</td>\n",
              "      <td>0.847639</td>\n",
              "      <td>0.873674</td>\n",
              "    </tr>\n",
              "    <tr>\n",
              "      <th>Recall_macro</th>\n",
              "      <td>0.874621</td>\n",
              "      <td>0.830502</td>\n",
              "      <td>0.840412</td>\n",
              "    </tr>\n",
              "    <tr>\n",
              "      <th>Precision0</th>\n",
              "      <td>0.902644</td>\n",
              "      <td>0.832547</td>\n",
              "      <td>0.867543</td>\n",
              "    </tr>\n",
              "    <tr>\n",
              "      <th>Precision1</th>\n",
              "      <td>0.851519</td>\n",
              "      <td>0.829832</td>\n",
              "      <td>0.815482</td>\n",
              "    </tr>\n",
              "    <tr>\n",
              "      <th>Precision_macro</th>\n",
              "      <td>0.877082</td>\n",
              "      <td>0.831190</td>\n",
              "      <td>0.841512</td>\n",
              "    </tr>\n",
              "    <tr>\n",
              "      <th>F1_0</th>\n",
              "      <td>0.868992</td>\n",
              "      <td>0.822844</td>\n",
              "      <td>0.836257</td>\n",
              "    </tr>\n",
              "    <tr>\n",
              "      <th>F1_1</th>\n",
              "      <td>0.880481</td>\n",
              "      <td>0.838641</td>\n",
              "      <td>0.843575</td>\n",
              "    </tr>\n",
              "    <tr>\n",
              "      <th>F1_macro</th>\n",
              "      <td>0.874737</td>\n",
              "      <td>0.830743</td>\n",
              "      <td>0.839916</td>\n",
              "    </tr>\n",
              "    <tr>\n",
              "      <th>AUC0</th>\n",
              "      <td>0.947591</td>\n",
              "      <td>0.912503</td>\n",
              "      <td>0.930700</td>\n",
              "    </tr>\n",
              "    <tr>\n",
              "      <th>AUC1</th>\n",
              "      <td>0.947403</td>\n",
              "      <td>0.914726</td>\n",
              "      <td>0.922342</td>\n",
              "    </tr>\n",
              "    <tr>\n",
              "      <th>AUC_macro</th>\n",
              "      <td>0.947403</td>\n",
              "      <td>0.914726</td>\n",
              "      <td>0.922342</td>\n",
              "    </tr>\n",
              "  </tbody>\n",
              "</table>\n",
              "</div>\n",
              "      <button class=\"colab-df-convert\" onclick=\"convertToInteractive('df-fe5e4482-f88e-4e7d-9900-dcc4be27aefb')\"\n",
              "              title=\"Convert this dataframe to an interactive table.\"\n",
              "              style=\"display:none;\">\n",
              "        \n",
              "  <svg xmlns=\"http://www.w3.org/2000/svg\" height=\"24px\"viewBox=\"0 0 24 24\"\n",
              "       width=\"24px\">\n",
              "    <path d=\"M0 0h24v24H0V0z\" fill=\"none\"/>\n",
              "    <path d=\"M18.56 5.44l.94 2.06.94-2.06 2.06-.94-2.06-.94-.94-2.06-.94 2.06-2.06.94zm-11 1L8.5 8.5l.94-2.06 2.06-.94-2.06-.94L8.5 2.5l-.94 2.06-2.06.94zm10 10l.94 2.06.94-2.06 2.06-.94-2.06-.94-.94-2.06-.94 2.06-2.06.94z\"/><path d=\"M17.41 7.96l-1.37-1.37c-.4-.4-.92-.59-1.43-.59-.52 0-1.04.2-1.43.59L10.3 9.45l-7.72 7.72c-.78.78-.78 2.05 0 2.83L4 21.41c.39.39.9.59 1.41.59.51 0 1.02-.2 1.41-.59l7.78-7.78 2.81-2.81c.8-.78.8-2.07 0-2.86zM5.41 20L4 18.59l7.72-7.72 1.47 1.35L5.41 20z\"/>\n",
              "  </svg>\n",
              "      </button>\n",
              "      \n",
              "  <style>\n",
              "    .colab-df-container {\n",
              "      display:flex;\n",
              "      flex-wrap:wrap;\n",
              "      gap: 12px;\n",
              "    }\n",
              "\n",
              "    .colab-df-convert {\n",
              "      background-color: #E8F0FE;\n",
              "      border: none;\n",
              "      border-radius: 50%;\n",
              "      cursor: pointer;\n",
              "      display: none;\n",
              "      fill: #1967D2;\n",
              "      height: 32px;\n",
              "      padding: 0 0 0 0;\n",
              "      width: 32px;\n",
              "    }\n",
              "\n",
              "    .colab-df-convert:hover {\n",
              "      background-color: #E2EBFA;\n",
              "      box-shadow: 0px 1px 2px rgba(60, 64, 67, 0.3), 0px 1px 3px 1px rgba(60, 64, 67, 0.15);\n",
              "      fill: #174EA6;\n",
              "    }\n",
              "\n",
              "    [theme=dark] .colab-df-convert {\n",
              "      background-color: #3B4455;\n",
              "      fill: #D2E3FC;\n",
              "    }\n",
              "\n",
              "    [theme=dark] .colab-df-convert:hover {\n",
              "      background-color: #434B5C;\n",
              "      box-shadow: 0px 1px 3px 1px rgba(0, 0, 0, 0.15);\n",
              "      filter: drop-shadow(0px 1px 2px rgba(0, 0, 0, 0.3));\n",
              "      fill: #FFFFFF;\n",
              "    }\n",
              "  </style>\n",
              "\n",
              "      <script>\n",
              "        const buttonEl =\n",
              "          document.querySelector('#df-fe5e4482-f88e-4e7d-9900-dcc4be27aefb button.colab-df-convert');\n",
              "        buttonEl.style.display =\n",
              "          google.colab.kernel.accessAllowed ? 'block' : 'none';\n",
              "\n",
              "        async function convertToInteractive(key) {\n",
              "          const element = document.querySelector('#df-fe5e4482-f88e-4e7d-9900-dcc4be27aefb');\n",
              "          const dataTable =\n",
              "            await google.colab.kernel.invokeFunction('convertToInteractive',\n",
              "                                                     [key], {});\n",
              "          if (!dataTable) return;\n",
              "\n",
              "          const docLinkHtml = 'Like what you see? Visit the ' +\n",
              "            '<a target=\"_blank\" href=https://colab.research.google.com/notebooks/data_table.ipynb>data table notebook</a>'\n",
              "            + ' to learn more about interactive tables.';\n",
              "          element.innerHTML = '';\n",
              "          dataTable['output_type'] = 'display_data';\n",
              "          await google.colab.output.renderOutput(dataTable, element);\n",
              "          const docLink = document.createElement('div');\n",
              "          docLink.innerHTML = docLinkHtml;\n",
              "          element.appendChild(docLink);\n",
              "        }\n",
              "      </script>\n",
              "    </div>\n",
              "  </div>\n",
              "  "
            ]
          },
          "metadata": {},
          "execution_count": 67
        }
      ]
    },
    {
      "cell_type": "code",
      "source": [
        "model3_scores"
      ],
      "metadata": {
        "id": "v4NHmoZM7vcX",
        "colab": {
          "base_uri": "https://localhost:8080/",
          "height": 457
        },
        "outputId": "8d6825c0-e800-4e50-8d64-5e2fae829558"
      },
      "execution_count": null,
      "outputs": [
        {
          "output_type": "execute_result",
          "data": {
            "text/plain": [
              "                 Training Set  Development Set  Test Set\n",
              "Accuracy             0.976714         0.860000  0.889048\n",
              "Recall0              0.982102         0.880184  0.902164\n",
              "Recall1              0.971437         0.841202  0.875603\n",
              "Recall_macro         0.976769         0.860693  0.888883\n",
              "Precision0           0.971168         0.837719  0.881434\n",
              "Precision1           0.982271         0.882883  0.897233\n",
              "Precision_macro      0.976719         0.860301  0.889334\n",
              "F1_0                 0.976604         0.858427  0.891678\n",
              "F1_1                 0.976824         0.861538  0.886286\n",
              "F1_macro             0.976714         0.859983  0.888982\n",
              "AUC0                 0.997236         0.948438  0.960730\n",
              "AUC1                 0.997405         0.954332  0.952137\n",
              "AUC_macro            0.997405         0.954332  0.952137"
            ],
            "text/html": [
              "\n",
              "  <div id=\"df-acc7a725-11da-47a3-8eff-f78be310d314\">\n",
              "    <div class=\"colab-df-container\">\n",
              "      <div>\n",
              "<style scoped>\n",
              "    .dataframe tbody tr th:only-of-type {\n",
              "        vertical-align: middle;\n",
              "    }\n",
              "\n",
              "    .dataframe tbody tr th {\n",
              "        vertical-align: top;\n",
              "    }\n",
              "\n",
              "    .dataframe thead th {\n",
              "        text-align: right;\n",
              "    }\n",
              "</style>\n",
              "<table border=\"1\" class=\"dataframe\">\n",
              "  <thead>\n",
              "    <tr style=\"text-align: right;\">\n",
              "      <th></th>\n",
              "      <th>Training Set</th>\n",
              "      <th>Development Set</th>\n",
              "      <th>Test Set</th>\n",
              "    </tr>\n",
              "  </thead>\n",
              "  <tbody>\n",
              "    <tr>\n",
              "      <th>Accuracy</th>\n",
              "      <td>0.976714</td>\n",
              "      <td>0.860000</td>\n",
              "      <td>0.889048</td>\n",
              "    </tr>\n",
              "    <tr>\n",
              "      <th>Recall0</th>\n",
              "      <td>0.982102</td>\n",
              "      <td>0.880184</td>\n",
              "      <td>0.902164</td>\n",
              "    </tr>\n",
              "    <tr>\n",
              "      <th>Recall1</th>\n",
              "      <td>0.971437</td>\n",
              "      <td>0.841202</td>\n",
              "      <td>0.875603</td>\n",
              "    </tr>\n",
              "    <tr>\n",
              "      <th>Recall_macro</th>\n",
              "      <td>0.976769</td>\n",
              "      <td>0.860693</td>\n",
              "      <td>0.888883</td>\n",
              "    </tr>\n",
              "    <tr>\n",
              "      <th>Precision0</th>\n",
              "      <td>0.971168</td>\n",
              "      <td>0.837719</td>\n",
              "      <td>0.881434</td>\n",
              "    </tr>\n",
              "    <tr>\n",
              "      <th>Precision1</th>\n",
              "      <td>0.982271</td>\n",
              "      <td>0.882883</td>\n",
              "      <td>0.897233</td>\n",
              "    </tr>\n",
              "    <tr>\n",
              "      <th>Precision_macro</th>\n",
              "      <td>0.976719</td>\n",
              "      <td>0.860301</td>\n",
              "      <td>0.889334</td>\n",
              "    </tr>\n",
              "    <tr>\n",
              "      <th>F1_0</th>\n",
              "      <td>0.976604</td>\n",
              "      <td>0.858427</td>\n",
              "      <td>0.891678</td>\n",
              "    </tr>\n",
              "    <tr>\n",
              "      <th>F1_1</th>\n",
              "      <td>0.976824</td>\n",
              "      <td>0.861538</td>\n",
              "      <td>0.886286</td>\n",
              "    </tr>\n",
              "    <tr>\n",
              "      <th>F1_macro</th>\n",
              "      <td>0.976714</td>\n",
              "      <td>0.859983</td>\n",
              "      <td>0.888982</td>\n",
              "    </tr>\n",
              "    <tr>\n",
              "      <th>AUC0</th>\n",
              "      <td>0.997236</td>\n",
              "      <td>0.948438</td>\n",
              "      <td>0.960730</td>\n",
              "    </tr>\n",
              "    <tr>\n",
              "      <th>AUC1</th>\n",
              "      <td>0.997405</td>\n",
              "      <td>0.954332</td>\n",
              "      <td>0.952137</td>\n",
              "    </tr>\n",
              "    <tr>\n",
              "      <th>AUC_macro</th>\n",
              "      <td>0.997405</td>\n",
              "      <td>0.954332</td>\n",
              "      <td>0.952137</td>\n",
              "    </tr>\n",
              "  </tbody>\n",
              "</table>\n",
              "</div>\n",
              "      <button class=\"colab-df-convert\" onclick=\"convertToInteractive('df-acc7a725-11da-47a3-8eff-f78be310d314')\"\n",
              "              title=\"Convert this dataframe to an interactive table.\"\n",
              "              style=\"display:none;\">\n",
              "        \n",
              "  <svg xmlns=\"http://www.w3.org/2000/svg\" height=\"24px\"viewBox=\"0 0 24 24\"\n",
              "       width=\"24px\">\n",
              "    <path d=\"M0 0h24v24H0V0z\" fill=\"none\"/>\n",
              "    <path d=\"M18.56 5.44l.94 2.06.94-2.06 2.06-.94-2.06-.94-.94-2.06-.94 2.06-2.06.94zm-11 1L8.5 8.5l.94-2.06 2.06-.94-2.06-.94L8.5 2.5l-.94 2.06-2.06.94zm10 10l.94 2.06.94-2.06 2.06-.94-2.06-.94-.94-2.06-.94 2.06-2.06.94z\"/><path d=\"M17.41 7.96l-1.37-1.37c-.4-.4-.92-.59-1.43-.59-.52 0-1.04.2-1.43.59L10.3 9.45l-7.72 7.72c-.78.78-.78 2.05 0 2.83L4 21.41c.39.39.9.59 1.41.59.51 0 1.02-.2 1.41-.59l7.78-7.78 2.81-2.81c.8-.78.8-2.07 0-2.86zM5.41 20L4 18.59l7.72-7.72 1.47 1.35L5.41 20z\"/>\n",
              "  </svg>\n",
              "      </button>\n",
              "      \n",
              "  <style>\n",
              "    .colab-df-container {\n",
              "      display:flex;\n",
              "      flex-wrap:wrap;\n",
              "      gap: 12px;\n",
              "    }\n",
              "\n",
              "    .colab-df-convert {\n",
              "      background-color: #E8F0FE;\n",
              "      border: none;\n",
              "      border-radius: 50%;\n",
              "      cursor: pointer;\n",
              "      display: none;\n",
              "      fill: #1967D2;\n",
              "      height: 32px;\n",
              "      padding: 0 0 0 0;\n",
              "      width: 32px;\n",
              "    }\n",
              "\n",
              "    .colab-df-convert:hover {\n",
              "      background-color: #E2EBFA;\n",
              "      box-shadow: 0px 1px 2px rgba(60, 64, 67, 0.3), 0px 1px 3px 1px rgba(60, 64, 67, 0.15);\n",
              "      fill: #174EA6;\n",
              "    }\n",
              "\n",
              "    [theme=dark] .colab-df-convert {\n",
              "      background-color: #3B4455;\n",
              "      fill: #D2E3FC;\n",
              "    }\n",
              "\n",
              "    [theme=dark] .colab-df-convert:hover {\n",
              "      background-color: #434B5C;\n",
              "      box-shadow: 0px 1px 3px 1px rgba(0, 0, 0, 0.15);\n",
              "      filter: drop-shadow(0px 1px 2px rgba(0, 0, 0, 0.3));\n",
              "      fill: #FFFFFF;\n",
              "    }\n",
              "  </style>\n",
              "\n",
              "      <script>\n",
              "        const buttonEl =\n",
              "          document.querySelector('#df-acc7a725-11da-47a3-8eff-f78be310d314 button.colab-df-convert');\n",
              "        buttonEl.style.display =\n",
              "          google.colab.kernel.accessAllowed ? 'block' : 'none';\n",
              "\n",
              "        async function convertToInteractive(key) {\n",
              "          const element = document.querySelector('#df-acc7a725-11da-47a3-8eff-f78be310d314');\n",
              "          const dataTable =\n",
              "            await google.colab.kernel.invokeFunction('convertToInteractive',\n",
              "                                                     [key], {});\n",
              "          if (!dataTable) return;\n",
              "\n",
              "          const docLinkHtml = 'Like what you see? Visit the ' +\n",
              "            '<a target=\"_blank\" href=https://colab.research.google.com/notebooks/data_table.ipynb>data table notebook</a>'\n",
              "            + ' to learn more about interactive tables.';\n",
              "          element.innerHTML = '';\n",
              "          dataTable['output_type'] = 'display_data';\n",
              "          await google.colab.output.renderOutput(dataTable, element);\n",
              "          const docLink = document.createElement('div');\n",
              "          docLink.innerHTML = docLinkHtml;\n",
              "          element.appendChild(docLink);\n",
              "        }\n",
              "      </script>\n",
              "    </div>\n",
              "  </div>\n",
              "  "
            ]
          },
          "metadata": {},
          "execution_count": 78
        }
      ]
    },
    {
      "cell_type": "code",
      "source": [
        "lr_scores"
      ],
      "metadata": {
        "id": "0x2x_vVW7vSf",
        "colab": {
          "base_uri": "https://localhost:8080/",
          "height": 457
        },
        "outputId": "31c90fa4-7e42-4d2c-d3c5-4425dbfb6ec5"
      },
      "execution_count": null,
      "outputs": [
        {
          "output_type": "execute_result",
          "data": {
            "text/plain": [
              "                 Training Set  Development Set  Test Set\n",
              "Accuracy             0.907429         0.857778  0.867619\n",
              "Recall0              0.882794         0.827189  0.845720\n",
              "Recall1              0.931561         0.886266  0.890068\n",
              "Recall_macro         0.907178         0.856728  0.867894\n",
              "Precision0           0.926667         0.871359  0.887463\n",
              "Precision1           0.890270         0.846311  0.849126\n",
              "Precision_macro      0.908468         0.858835  0.868295\n",
              "F1_0                 0.904199         0.848700  0.866089\n",
              "F1_1                 0.910448         0.865828  0.869115\n",
              "F1_macro             0.907323         0.857264  0.867602\n",
              "AUC0                 0.971324         0.938468  0.949601\n",
              "AUC1                 0.972144         0.942915  0.944800\n",
              "AUC_macro            0.972144         0.942915  0.944800"
            ],
            "text/html": [
              "\n",
              "  <div id=\"df-2bc12429-8397-46b6-8c9c-cce014993d48\">\n",
              "    <div class=\"colab-df-container\">\n",
              "      <div>\n",
              "<style scoped>\n",
              "    .dataframe tbody tr th:only-of-type {\n",
              "        vertical-align: middle;\n",
              "    }\n",
              "\n",
              "    .dataframe tbody tr th {\n",
              "        vertical-align: top;\n",
              "    }\n",
              "\n",
              "    .dataframe thead th {\n",
              "        text-align: right;\n",
              "    }\n",
              "</style>\n",
              "<table border=\"1\" class=\"dataframe\">\n",
              "  <thead>\n",
              "    <tr style=\"text-align: right;\">\n",
              "      <th></th>\n",
              "      <th>Training Set</th>\n",
              "      <th>Development Set</th>\n",
              "      <th>Test Set</th>\n",
              "    </tr>\n",
              "  </thead>\n",
              "  <tbody>\n",
              "    <tr>\n",
              "      <th>Accuracy</th>\n",
              "      <td>0.907429</td>\n",
              "      <td>0.857778</td>\n",
              "      <td>0.867619</td>\n",
              "    </tr>\n",
              "    <tr>\n",
              "      <th>Recall0</th>\n",
              "      <td>0.882794</td>\n",
              "      <td>0.827189</td>\n",
              "      <td>0.845720</td>\n",
              "    </tr>\n",
              "    <tr>\n",
              "      <th>Recall1</th>\n",
              "      <td>0.931561</td>\n",
              "      <td>0.886266</td>\n",
              "      <td>0.890068</td>\n",
              "    </tr>\n",
              "    <tr>\n",
              "      <th>Recall_macro</th>\n",
              "      <td>0.907178</td>\n",
              "      <td>0.856728</td>\n",
              "      <td>0.867894</td>\n",
              "    </tr>\n",
              "    <tr>\n",
              "      <th>Precision0</th>\n",
              "      <td>0.926667</td>\n",
              "      <td>0.871359</td>\n",
              "      <td>0.887463</td>\n",
              "    </tr>\n",
              "    <tr>\n",
              "      <th>Precision1</th>\n",
              "      <td>0.890270</td>\n",
              "      <td>0.846311</td>\n",
              "      <td>0.849126</td>\n",
              "    </tr>\n",
              "    <tr>\n",
              "      <th>Precision_macro</th>\n",
              "      <td>0.908468</td>\n",
              "      <td>0.858835</td>\n",
              "      <td>0.868295</td>\n",
              "    </tr>\n",
              "    <tr>\n",
              "      <th>F1_0</th>\n",
              "      <td>0.904199</td>\n",
              "      <td>0.848700</td>\n",
              "      <td>0.866089</td>\n",
              "    </tr>\n",
              "    <tr>\n",
              "      <th>F1_1</th>\n",
              "      <td>0.910448</td>\n",
              "      <td>0.865828</td>\n",
              "      <td>0.869115</td>\n",
              "    </tr>\n",
              "    <tr>\n",
              "      <th>F1_macro</th>\n",
              "      <td>0.907323</td>\n",
              "      <td>0.857264</td>\n",
              "      <td>0.867602</td>\n",
              "    </tr>\n",
              "    <tr>\n",
              "      <th>AUC0</th>\n",
              "      <td>0.971324</td>\n",
              "      <td>0.938468</td>\n",
              "      <td>0.949601</td>\n",
              "    </tr>\n",
              "    <tr>\n",
              "      <th>AUC1</th>\n",
              "      <td>0.972144</td>\n",
              "      <td>0.942915</td>\n",
              "      <td>0.944800</td>\n",
              "    </tr>\n",
              "    <tr>\n",
              "      <th>AUC_macro</th>\n",
              "      <td>0.972144</td>\n",
              "      <td>0.942915</td>\n",
              "      <td>0.944800</td>\n",
              "    </tr>\n",
              "  </tbody>\n",
              "</table>\n",
              "</div>\n",
              "      <button class=\"colab-df-convert\" onclick=\"convertToInteractive('df-2bc12429-8397-46b6-8c9c-cce014993d48')\"\n",
              "              title=\"Convert this dataframe to an interactive table.\"\n",
              "              style=\"display:none;\">\n",
              "        \n",
              "  <svg xmlns=\"http://www.w3.org/2000/svg\" height=\"24px\"viewBox=\"0 0 24 24\"\n",
              "       width=\"24px\">\n",
              "    <path d=\"M0 0h24v24H0V0z\" fill=\"none\"/>\n",
              "    <path d=\"M18.56 5.44l.94 2.06.94-2.06 2.06-.94-2.06-.94-.94-2.06-.94 2.06-2.06.94zm-11 1L8.5 8.5l.94-2.06 2.06-.94-2.06-.94L8.5 2.5l-.94 2.06-2.06.94zm10 10l.94 2.06.94-2.06 2.06-.94-2.06-.94-.94-2.06-.94 2.06-2.06.94z\"/><path d=\"M17.41 7.96l-1.37-1.37c-.4-.4-.92-.59-1.43-.59-.52 0-1.04.2-1.43.59L10.3 9.45l-7.72 7.72c-.78.78-.78 2.05 0 2.83L4 21.41c.39.39.9.59 1.41.59.51 0 1.02-.2 1.41-.59l7.78-7.78 2.81-2.81c.8-.78.8-2.07 0-2.86zM5.41 20L4 18.59l7.72-7.72 1.47 1.35L5.41 20z\"/>\n",
              "  </svg>\n",
              "      </button>\n",
              "      \n",
              "  <style>\n",
              "    .colab-df-container {\n",
              "      display:flex;\n",
              "      flex-wrap:wrap;\n",
              "      gap: 12px;\n",
              "    }\n",
              "\n",
              "    .colab-df-convert {\n",
              "      background-color: #E8F0FE;\n",
              "      border: none;\n",
              "      border-radius: 50%;\n",
              "      cursor: pointer;\n",
              "      display: none;\n",
              "      fill: #1967D2;\n",
              "      height: 32px;\n",
              "      padding: 0 0 0 0;\n",
              "      width: 32px;\n",
              "    }\n",
              "\n",
              "    .colab-df-convert:hover {\n",
              "      background-color: #E2EBFA;\n",
              "      box-shadow: 0px 1px 2px rgba(60, 64, 67, 0.3), 0px 1px 3px 1px rgba(60, 64, 67, 0.15);\n",
              "      fill: #174EA6;\n",
              "    }\n",
              "\n",
              "    [theme=dark] .colab-df-convert {\n",
              "      background-color: #3B4455;\n",
              "      fill: #D2E3FC;\n",
              "    }\n",
              "\n",
              "    [theme=dark] .colab-df-convert:hover {\n",
              "      background-color: #434B5C;\n",
              "      box-shadow: 0px 1px 3px 1px rgba(0, 0, 0, 0.15);\n",
              "      filter: drop-shadow(0px 1px 2px rgba(0, 0, 0, 0.3));\n",
              "      fill: #FFFFFF;\n",
              "    }\n",
              "  </style>\n",
              "\n",
              "      <script>\n",
              "        const buttonEl =\n",
              "          document.querySelector('#df-2bc12429-8397-46b6-8c9c-cce014993d48 button.colab-df-convert');\n",
              "        buttonEl.style.display =\n",
              "          google.colab.kernel.accessAllowed ? 'block' : 'none';\n",
              "\n",
              "        async function convertToInteractive(key) {\n",
              "          const element = document.querySelector('#df-2bc12429-8397-46b6-8c9c-cce014993d48');\n",
              "          const dataTable =\n",
              "            await google.colab.kernel.invokeFunction('convertToInteractive',\n",
              "                                                     [key], {});\n",
              "          if (!dataTable) return;\n",
              "\n",
              "          const docLinkHtml = 'Like what you see? Visit the ' +\n",
              "            '<a target=\"_blank\" href=https://colab.research.google.com/notebooks/data_table.ipynb>data table notebook</a>'\n",
              "            + ' to learn more about interactive tables.';\n",
              "          element.innerHTML = '';\n",
              "          dataTable['output_type'] = 'display_data';\n",
              "          await google.colab.output.renderOutput(dataTable, element);\n",
              "          const docLink = document.createElement('div');\n",
              "          docLink.innerHTML = docLinkHtml;\n",
              "          element.appendChild(docLink);\n",
              "        }\n",
              "      </script>\n",
              "    </div>\n",
              "  </div>\n",
              "  "
            ]
          },
          "metadata": {},
          "execution_count": 79
        }
      ]
    },
    {
      "cell_type": "code",
      "source": [
        ""
      ],
      "metadata": {
        "id": "RM3SeH_fYSWJ"
      },
      "execution_count": null,
      "outputs": []
    }
  ],
  "metadata": {
    "colab": {
      "collapsed_sections": [],
      "name": "A4.ipynb",
      "provenance": []
    },
    "kernelspec": {
      "display_name": "Python 3",
      "name": "python3"
    },
    "language_info": {
      "name": "python"
    },
    "accelerator": "GPU"
  },
  "nbformat": 4,
  "nbformat_minor": 0
}